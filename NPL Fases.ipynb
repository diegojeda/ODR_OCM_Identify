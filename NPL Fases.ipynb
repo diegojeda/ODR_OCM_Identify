{
 "cells": [
  {
   "cell_type": "markdown",
   "metadata": {},
   "source": [
    "# PREDICCION DE FASE USANDO NPL"
   ]
  },
  {
   "cell_type": "markdown",
   "metadata": {},
   "source": [
    "## 1. Preparacion"
   ]
  },
  {
   "cell_type": "markdown",
   "metadata": {},
   "source": [
    "### 1.1 Importe De Librerias"
   ]
  },
  {
   "cell_type": "code",
   "execution_count": 38,
   "metadata": {},
   "outputs": [
    {
     "name": "stderr",
     "output_type": "stream",
     "text": [
      "[nltk_data] Downloading package stopwords to C:\\Users\\Diego\n",
      "[nltk_data]     Ojeda\\AppData\\Roaming\\nltk_data...\n",
      "[nltk_data]   Package stopwords is already up-to-date!\n"
     ]
    },
    {
     "data": {
      "text/plain": [
       "True"
      ]
     },
     "execution_count": 38,
     "metadata": {},
     "output_type": "execute_result"
    },
    {
     "name": "stdout",
     "output_type": "stream",
     "text": [
      "Requirement already satisfied: optuna in c:\\users\\diego ojeda\\anaconda3\\lib\\site-packages (2.10.0)\n",
      "Requirement already satisfied: colorlog in c:\\users\\diego ojeda\\anaconda3\\lib\\site-packages (from optuna) (6.6.0)\n",
      "Requirement already satisfied: packaging>=20.0 in c:\\users\\diego ojeda\\anaconda3\\lib\\site-packages (from optuna) (21.0)\n",
      "Requirement already satisfied: PyYAML in c:\\users\\diego ojeda\\anaconda3\\lib\\site-packages (from optuna) (6.0)\n",
      "Requirement already satisfied: sqlalchemy>=1.1.0 in c:\\users\\diego ojeda\\anaconda3\\lib\\site-packages (from optuna) (1.4.22)\n",
      "Requirement already satisfied: scipy!=1.4.0 in c:\\users\\diego ojeda\\anaconda3\\lib\\site-packages (from optuna) (1.7.1)\n",
      "Requirement already satisfied: cmaes>=0.8.2 in c:\\users\\diego ojeda\\anaconda3\\lib\\site-packages (from optuna) (0.8.2)\n",
      "Requirement already satisfied: tqdm in c:\\users\\diego ojeda\\anaconda3\\lib\\site-packages (from optuna) (4.62.3)\n",
      "Requirement already satisfied: alembic in c:\\users\\diego ojeda\\anaconda3\\lib\\site-packages (from optuna) (1.7.7)\n",
      "Requirement already satisfied: cliff in c:\\users\\diego ojeda\\anaconda3\\lib\\site-packages (from optuna) (3.10.1)\n",
      "Requirement already satisfied: numpy in c:\\users\\diego ojeda\\anaconda3\\lib\\site-packages (from optuna) (1.20.3)\n",
      "Requirement already satisfied: pyparsing>=2.0.2 in c:\\users\\diego ojeda\\anaconda3\\lib\\site-packages (from packaging>=20.0->optuna) (3.0.4)\n",
      "Requirement already satisfied: greenlet!=0.4.17 in c:\\users\\diego ojeda\\anaconda3\\lib\\site-packages (from sqlalchemy>=1.1.0->optuna) (1.1.1)\n",
      "Requirement already satisfied: Mako in c:\\users\\diego ojeda\\anaconda3\\lib\\site-packages (from alembic->optuna) (1.2.0)\n",
      "Requirement already satisfied: pbr!=2.1.0,>=2.0.0 in c:\\users\\diego ojeda\\anaconda3\\lib\\site-packages (from cliff->optuna) (5.8.1)\n",
      "Requirement already satisfied: cmd2>=1.0.0 in c:\\users\\diego ojeda\\anaconda3\\lib\\site-packages (from cliff->optuna) (2.4.0)\n",
      "Requirement already satisfied: PrettyTable>=0.7.2 in c:\\users\\diego ojeda\\anaconda3\\lib\\site-packages (from cliff->optuna) (3.2.0)\n",
      "Requirement already satisfied: stevedore>=2.0.1 in c:\\users\\diego ojeda\\anaconda3\\lib\\site-packages (from cliff->optuna) (3.5.0)\n",
      "Requirement already satisfied: autopage>=0.4.0 in c:\\users\\diego ojeda\\anaconda3\\lib\\site-packages (from cliff->optuna) (0.5.0)\n",
      "Requirement already satisfied: wcwidth>=0.1.7 in c:\\users\\diego ojeda\\anaconda3\\lib\\site-packages (from cmd2>=1.0.0->cliff->optuna) (0.2.5)\n",
      "Requirement already satisfied: attrs>=16.3.0 in c:\\users\\diego ojeda\\anaconda3\\lib\\site-packages (from cmd2>=1.0.0->cliff->optuna) (21.2.0)\n",
      "Requirement already satisfied: pyperclip>=1.6 in c:\\users\\diego ojeda\\anaconda3\\lib\\site-packages (from cmd2>=1.0.0->cliff->optuna) (1.8.2)\n",
      "Requirement already satisfied: pyreadline3 in c:\\users\\diego ojeda\\anaconda3\\lib\\site-packages (from cmd2>=1.0.0->cliff->optuna) (3.4.1)\n",
      "Requirement already satisfied: colorama in c:\\users\\diego ojeda\\anaconda3\\lib\\site-packages (from colorlog->optuna) (0.4.4)\n",
      "Requirement already satisfied: MarkupSafe>=0.9.2 in c:\\users\\diego ojeda\\anaconda3\\lib\\site-packages (from Mako->alembic->optuna) (2.0.1)\n"
     ]
    }
   ],
   "source": [
    "import pandas as pd\n",
    "import numpy as np\n",
    "from numpy import loadtxt\n",
    "from pylab import *\n",
    "import seaborn as sns\n",
    "from IPython.core.interactiveshell import InteractiveShell  \n",
    "InteractiveShell.ast_node_interactivity = \"all\"\n",
    "from IPython.display import display, HTML\n",
    "from scipy import stats\n",
    "import matplotlib.pyplot as plt\n",
    "import datetime\n",
    "from dateutil.relativedelta import relativedelta\n",
    "from statistics import mean\n",
    "\n",
    "import re\n",
    "import nltk\n",
    "nltk.download('stopwords')\n",
    "import pickle\n",
    "from nltk.corpus import stopwords\n",
    "from sklearn import preprocessing\n",
    "from nltk.stem import WordNetLemmatizer\n",
    "from sklearn.feature_extraction.text import CountVectorizer\n",
    "from sklearn.feature_extraction.text import TfidfTransformer\n",
    "from sklearn.model_selection import train_test_split\n",
    "\n",
    "from sklearn.ensemble import RandomForestClassifier\n",
    "from sklearn.metrics import classification_report, confusion_matrix, accuracy_score\n",
    "\n",
    "!pip install optuna\n",
    "import optuna"
   ]
  },
  {
   "cell_type": "markdown",
   "metadata": {},
   "source": [
    "### 1.2 Carga de Base De Datos"
   ]
  },
  {
   "cell_type": "code",
   "execution_count": 39,
   "metadata": {},
   "outputs": [
    {
     "data": {
      "text/html": [
       "<div>\n",
       "<style scoped>\n",
       "    .dataframe tbody tr th:only-of-type {\n",
       "        vertical-align: middle;\n",
       "    }\n",
       "\n",
       "    .dataframe tbody tr th {\n",
       "        vertical-align: top;\n",
       "    }\n",
       "\n",
       "    .dataframe thead th {\n",
       "        text-align: right;\n",
       "    }\n",
       "</style>\n",
       "<table border=\"1\" class=\"dataframe\">\n",
       "  <thead>\n",
       "    <tr style=\"text-align: right;\">\n",
       "      <th></th>\n",
       "      <th>Siglas</th>\n",
       "      <th>Nombre</th>\n",
       "      <th>Desde</th>\n",
       "      <th>Hasta</th>\n",
       "      <th>MD From (ft)</th>\n",
       "      <th>MD to (ft)</th>\n",
       "      <th>Codigo</th>\n",
       "      <th>Subcodigo</th>\n",
       "      <th>Operación</th>\n",
       "    </tr>\n",
       "  </thead>\n",
       "  <tbody>\n",
       "    <tr>\n",
       "      <th>0</th>\n",
       "      <td>ODR</td>\n",
       "      <td>MOR BL 04</td>\n",
       "      <td>2011-05-25 08:00:00</td>\n",
       "      <td>2011-05-25 11:00:00</td>\n",
       "      <td>2773.0</td>\n",
       "      <td>2773.0</td>\n",
       "      <td>1300</td>\n",
       "      <td>1304.0</td>\n",
       "      <td>HANG TBG ON 7 1/16\" CASING HEAD. DISCONNECTED ...</td>\n",
       "    </tr>\n",
       "    <tr>\n",
       "      <th>1</th>\n",
       "      <td>ODR</td>\n",
       "      <td>MOR BL 04</td>\n",
       "      <td>2011-05-25 02:30:00</td>\n",
       "      <td>2011-05-25 08:00:00</td>\n",
       "      <td>2773.0</td>\n",
       "      <td>2773.0</td>\n",
       "      <td>1100</td>\n",
       "      <td>1117.0</td>\n",
       "      <td>RIH 2 7 /8\" TUBING EUE  (31.62 FT) + NIPLESILL...</td>\n",
       "    </tr>\n",
       "    <tr>\n",
       "      <th>2</th>\n",
       "      <td>ODR</td>\n",
       "      <td>MOR BL 04</td>\n",
       "      <td>2011-05-25 00:00:00</td>\n",
       "      <td>2011-05-25 02:30:00</td>\n",
       "      <td>2773.0</td>\n",
       "      <td>2773.0</td>\n",
       "      <td>1100</td>\n",
       "      <td>1116.0</td>\n",
       "      <td>CONTD. POOH AND L/D 3 1/2'' DP + SETTING TOOL ...</td>\n",
       "    </tr>\n",
       "    <tr>\n",
       "      <th>3</th>\n",
       "      <td>ODR</td>\n",
       "      <td>MOR BL 04</td>\n",
       "      <td>2011-05-24 00:00:00</td>\n",
       "      <td>2011-05-24 03:30:00</td>\n",
       "      <td>2773.0</td>\n",
       "      <td>2773.0</td>\n",
       "      <td>1500</td>\n",
       "      <td>1503.0</td>\n",
       "      <td>GRAVEL PACKING 5½\" LINER W/ 10-16 MESH GRAVEL ...</td>\n",
       "    </tr>\n",
       "    <tr>\n",
       "      <th>4</th>\n",
       "      <td>ODR</td>\n",
       "      <td>MOR BL 04</td>\n",
       "      <td>2011-05-24 21:30:00</td>\n",
       "      <td>2011-05-24 22:30:00</td>\n",
       "      <td>2773.0</td>\n",
       "      <td>2773.0</td>\n",
       "      <td>1500</td>\n",
       "      <td>1503.0</td>\n",
       "      <td>CONDITIONED BRINE TO 9.5 PPG AND CIRCULATED AN...</td>\n",
       "    </tr>\n",
       "    <tr>\n",
       "      <th>...</th>\n",
       "      <td>...</td>\n",
       "      <td>...</td>\n",
       "      <td>...</td>\n",
       "      <td>...</td>\n",
       "      <td>...</td>\n",
       "      <td>...</td>\n",
       "      <td>...</td>\n",
       "      <td>...</td>\n",
       "      <td>...</td>\n",
       "    </tr>\n",
       "    <tr>\n",
       "      <th>27180</th>\n",
       "      <td>ODR</td>\n",
       "      <td>MOR D 02</td>\n",
       "      <td>2009-08-22 17:30:00</td>\n",
       "      <td>2009-08-22 19:00:00</td>\n",
       "      <td>2907.0</td>\n",
       "      <td>2907.0</td>\n",
       "      <td>1500</td>\n",
       "      <td>1503.0</td>\n",
       "      <td>CONDITIONED BRINE TO PERFORM CEMENT JOB</td>\n",
       "    </tr>\n",
       "    <tr>\n",
       "      <th>27181</th>\n",
       "      <td>ODR</td>\n",
       "      <td>MOR D 02</td>\n",
       "      <td>2009-08-22 10:00:00</td>\n",
       "      <td>2009-08-22 10:30:00</td>\n",
       "      <td>2907.0</td>\n",
       "      <td>2907.0</td>\n",
       "      <td>1700</td>\n",
       "      <td>1701.0</td>\n",
       "      <td>HELD PREOPERATIONAL METTING TO SET PACKER STAG...</td>\n",
       "    </tr>\n",
       "    <tr>\n",
       "      <th>27182</th>\n",
       "      <td>ODR</td>\n",
       "      <td>MOR D 02</td>\n",
       "      <td>2009-08-23 00:00:00</td>\n",
       "      <td>2009-08-23 03:30:00</td>\n",
       "      <td>2907.0</td>\n",
       "      <td>2907.0</td>\n",
       "      <td>2100</td>\n",
       "      <td>2104.0</td>\n",
       "      <td>HELD PREOPERATIONAL MEETING TO 7\" CASING CEMEN...</td>\n",
       "    </tr>\n",
       "    <tr>\n",
       "      <th>27183</th>\n",
       "      <td>ODR</td>\n",
       "      <td>MOR D 02</td>\n",
       "      <td>2009-08-23 03:30:00</td>\n",
       "      <td>2009-08-24 00:00:00</td>\n",
       "      <td>2907.0</td>\n",
       "      <td>2907.0</td>\n",
       "      <td>2100</td>\n",
       "      <td>2106.0</td>\n",
       "      <td>7\"CSG  CEMENT WOC</td>\n",
       "    </tr>\n",
       "    <tr>\n",
       "      <th>27184</th>\n",
       "      <td>OCM</td>\n",
       "      <td>MOR D 02</td>\n",
       "      <td>2009-08-28 00:00:00</td>\n",
       "      <td>2009-08-29 00:00:00</td>\n",
       "      <td>NaN</td>\n",
       "      <td>NaN</td>\n",
       "      <td>2200</td>\n",
       "      <td>2204.0</td>\n",
       "      <td>SE COMPLETA EL POZO CON EL BOMBEO DE 52 SACOS ...</td>\n",
       "    </tr>\n",
       "  </tbody>\n",
       "</table>\n",
       "<p>27185 rows × 9 columns</p>\n",
       "</div>"
      ],
      "text/plain": [
       "      Siglas     Nombre               Desde               Hasta  MD From (ft)  \\\n",
       "0        ODR  MOR BL 04 2011-05-25 08:00:00 2011-05-25 11:00:00        2773.0   \n",
       "1        ODR  MOR BL 04 2011-05-25 02:30:00 2011-05-25 08:00:00        2773.0   \n",
       "2        ODR  MOR BL 04 2011-05-25 00:00:00 2011-05-25 02:30:00        2773.0   \n",
       "3        ODR  MOR BL 04 2011-05-24 00:00:00 2011-05-24 03:30:00        2773.0   \n",
       "4        ODR  MOR BL 04 2011-05-24 21:30:00 2011-05-24 22:30:00        2773.0   \n",
       "...      ...        ...                 ...                 ...           ...   \n",
       "27180    ODR   MOR D 02 2009-08-22 17:30:00 2009-08-22 19:00:00        2907.0   \n",
       "27181    ODR   MOR D 02 2009-08-22 10:00:00 2009-08-22 10:30:00        2907.0   \n",
       "27182    ODR   MOR D 02 2009-08-23 00:00:00 2009-08-23 03:30:00        2907.0   \n",
       "27183    ODR   MOR D 02 2009-08-23 03:30:00 2009-08-24 00:00:00        2907.0   \n",
       "27184    OCM   MOR D 02 2009-08-28 00:00:00 2009-08-29 00:00:00           NaN   \n",
       "\n",
       "       MD to (ft) Codigo  Subcodigo  \\\n",
       "0          2773.0   1300     1304.0   \n",
       "1          2773.0   1100     1117.0   \n",
       "2          2773.0   1100     1116.0   \n",
       "3          2773.0   1500     1503.0   \n",
       "4          2773.0   1500     1503.0   \n",
       "...           ...    ...        ...   \n",
       "27180      2907.0   1500     1503.0   \n",
       "27181      2907.0   1700     1701.0   \n",
       "27182      2907.0   2100     2104.0   \n",
       "27183      2907.0   2100     2106.0   \n",
       "27184         NaN   2200     2204.0   \n",
       "\n",
       "                                               Operación  \n",
       "0      HANG TBG ON 7 1/16\" CASING HEAD. DISCONNECTED ...  \n",
       "1      RIH 2 7 /8\" TUBING EUE  (31.62 FT) + NIPLESILL...  \n",
       "2      CONTD. POOH AND L/D 3 1/2'' DP + SETTING TOOL ...  \n",
       "3      GRAVEL PACKING 5½\" LINER W/ 10-16 MESH GRAVEL ...  \n",
       "4      CONDITIONED BRINE TO 9.5 PPG AND CIRCULATED AN...  \n",
       "...                                                  ...  \n",
       "27180            CONDITIONED BRINE TO PERFORM CEMENT JOB  \n",
       "27181  HELD PREOPERATIONAL METTING TO SET PACKER STAG...  \n",
       "27182  HELD PREOPERATIONAL MEETING TO 7\" CASING CEMEN...  \n",
       "27183                                  7\"CSG  CEMENT WOC  \n",
       "27184  SE COMPLETA EL POZO CON EL BOMBEO DE 52 SACOS ...  \n",
       "\n",
       "[27185 rows x 9 columns]"
      ]
     },
     "execution_count": 39,
     "metadata": {},
     "output_type": "execute_result"
    }
   ],
   "source": [
    "path='Data.xlsx'\n",
    "data=pd.read_excel(path)\n",
    "data"
   ]
  },
  {
   "cell_type": "code",
   "execution_count": 40,
   "metadata": {},
   "outputs": [
    {
     "name": "stdout",
     "output_type": "stream",
     "text": [
      "<class 'pandas.core.frame.DataFrame'>\n",
      "RangeIndex: 27185 entries, 0 to 27184\n",
      "Data columns (total 9 columns):\n",
      " #   Column        Non-Null Count  Dtype         \n",
      "---  ------        --------------  -----         \n",
      " 0   Siglas        27185 non-null  object        \n",
      " 1   Nombre        27185 non-null  object        \n",
      " 2   Desde         27184 non-null  datetime64[ns]\n",
      " 3   Hasta         27184 non-null  datetime64[ns]\n",
      " 4   MD From (ft)  26180 non-null  float64       \n",
      " 5   MD to (ft)    26162 non-null  float64       \n",
      " 6   Codigo        27185 non-null  object        \n",
      " 7   Subcodigo     26936 non-null  float64       \n",
      " 8   Operación     27180 non-null  object        \n",
      "dtypes: datetime64[ns](2), float64(3), object(4)\n",
      "memory usage: 1.9+ MB\n"
     ]
    }
   ],
   "source": [
    "data.info()"
   ]
  },
  {
   "cell_type": "markdown",
   "metadata": {},
   "source": [
    "### 1.3 Limpieza Y Organizacion De Base De Datos"
   ]
  },
  {
   "cell_type": "code",
   "execution_count": 41,
   "metadata": {},
   "outputs": [],
   "source": [
    "# Eliminación de filas con datos nulos\n",
    "data = data.dropna()\n",
    "data = data.reset_index(drop=True)\n",
    "\n",
    "# Funcion para calcular diferencias de dos fechas\n",
    "def date_diff(date1, date2):\n",
    "    return (date1 -  date2).total_seconds()/60/60\n",
    "\n",
    "# Creacion de columna con la duracion de la actividad\n",
    "data[\"Duracion\"] = [date_diff(data.Hasta[i],data.Desde[i]) for i in range(len(data))]\n",
    "\n",
    "# Funcion para caclular al media entre dos profundidades\n",
    "def MD_Mean(MD_F,MD_T):\n",
    "    return mean([MD_T,MD_F])\n",
    "\n",
    "# Creacion de columna con la media de la profundidad en la actividad\n",
    "data[\"MD_Mean\"] = [MD_Mean(data[\"MD to (ft)\"][i],data[\"MD From (ft)\"][i]) for i in range(len(data))]\n",
    "\n",
    "# Cambio de tipo de datos de las columnas\n",
    "data['Subcodigo'] = data['Subcodigo'].astype(np.int64)\n",
    "data['Codigo'] = data['Codigo'].astype(np.int64)"
   ]
  },
  {
   "cell_type": "code",
   "execution_count": 42,
   "metadata": {},
   "outputs": [
    {
     "data": {
      "text/html": [
       "<div>\n",
       "<style scoped>\n",
       "    .dataframe tbody tr th:only-of-type {\n",
       "        vertical-align: middle;\n",
       "    }\n",
       "\n",
       "    .dataframe tbody tr th {\n",
       "        vertical-align: top;\n",
       "    }\n",
       "\n",
       "    .dataframe thead th {\n",
       "        text-align: right;\n",
       "    }\n",
       "</style>\n",
       "<table border=\"1\" class=\"dataframe\">\n",
       "  <thead>\n",
       "    <tr style=\"text-align: right;\">\n",
       "      <th></th>\n",
       "      <th>Siglas</th>\n",
       "      <th>Nombre</th>\n",
       "      <th>Desde</th>\n",
       "      <th>Hasta</th>\n",
       "      <th>MD From (ft)</th>\n",
       "      <th>MD to (ft)</th>\n",
       "      <th>Codigo</th>\n",
       "      <th>Subcodigo</th>\n",
       "      <th>Operación</th>\n",
       "      <th>Duracion</th>\n",
       "      <th>MD_Mean</th>\n",
       "    </tr>\n",
       "  </thead>\n",
       "  <tbody>\n",
       "    <tr>\n",
       "      <th>0</th>\n",
       "      <td>ODR</td>\n",
       "      <td>MOR BL 04</td>\n",
       "      <td>2011-05-25 08:00:00</td>\n",
       "      <td>2011-05-25 11:00:00</td>\n",
       "      <td>2773.0</td>\n",
       "      <td>2773.0</td>\n",
       "      <td>1300</td>\n",
       "      <td>1304</td>\n",
       "      <td>HANG TBG ON 7 1/16\" CASING HEAD. DISCONNECTED ...</td>\n",
       "      <td>3.0</td>\n",
       "      <td>2773.0</td>\n",
       "    </tr>\n",
       "    <tr>\n",
       "      <th>1</th>\n",
       "      <td>ODR</td>\n",
       "      <td>MOR BL 04</td>\n",
       "      <td>2011-05-25 02:30:00</td>\n",
       "      <td>2011-05-25 08:00:00</td>\n",
       "      <td>2773.0</td>\n",
       "      <td>2773.0</td>\n",
       "      <td>1100</td>\n",
       "      <td>1117</td>\n",
       "      <td>RIH 2 7 /8\" TUBING EUE  (31.62 FT) + NIPLESILL...</td>\n",
       "      <td>5.5</td>\n",
       "      <td>2773.0</td>\n",
       "    </tr>\n",
       "    <tr>\n",
       "      <th>2</th>\n",
       "      <td>ODR</td>\n",
       "      <td>MOR BL 04</td>\n",
       "      <td>2011-05-25 00:00:00</td>\n",
       "      <td>2011-05-25 02:30:00</td>\n",
       "      <td>2773.0</td>\n",
       "      <td>2773.0</td>\n",
       "      <td>1100</td>\n",
       "      <td>1116</td>\n",
       "      <td>CONTD. POOH AND L/D 3 1/2'' DP + SETTING TOOL ...</td>\n",
       "      <td>2.5</td>\n",
       "      <td>2773.0</td>\n",
       "    </tr>\n",
       "    <tr>\n",
       "      <th>3</th>\n",
       "      <td>ODR</td>\n",
       "      <td>MOR BL 04</td>\n",
       "      <td>2011-05-24 00:00:00</td>\n",
       "      <td>2011-05-24 03:30:00</td>\n",
       "      <td>2773.0</td>\n",
       "      <td>2773.0</td>\n",
       "      <td>1500</td>\n",
       "      <td>1503</td>\n",
       "      <td>GRAVEL PACKING 5½\" LINER W/ 10-16 MESH GRAVEL ...</td>\n",
       "      <td>3.5</td>\n",
       "      <td>2773.0</td>\n",
       "    </tr>\n",
       "    <tr>\n",
       "      <th>4</th>\n",
       "      <td>ODR</td>\n",
       "      <td>MOR BL 04</td>\n",
       "      <td>2011-05-24 21:30:00</td>\n",
       "      <td>2011-05-24 22:30:00</td>\n",
       "      <td>2773.0</td>\n",
       "      <td>2773.0</td>\n",
       "      <td>1500</td>\n",
       "      <td>1503</td>\n",
       "      <td>CONDITIONED BRINE TO 9.5 PPG AND CIRCULATED AN...</td>\n",
       "      <td>1.0</td>\n",
       "      <td>2773.0</td>\n",
       "    </tr>\n",
       "    <tr>\n",
       "      <th>...</th>\n",
       "      <td>...</td>\n",
       "      <td>...</td>\n",
       "      <td>...</td>\n",
       "      <td>...</td>\n",
       "      <td>...</td>\n",
       "      <td>...</td>\n",
       "      <td>...</td>\n",
       "      <td>...</td>\n",
       "      <td>...</td>\n",
       "      <td>...</td>\n",
       "      <td>...</td>\n",
       "    </tr>\n",
       "    <tr>\n",
       "      <th>25915</th>\n",
       "      <td>ODR</td>\n",
       "      <td>MOR D 02</td>\n",
       "      <td>2009-08-22 11:00:00</td>\n",
       "      <td>2009-08-22 13:00:00</td>\n",
       "      <td>2907.0</td>\n",
       "      <td>2907.0</td>\n",
       "      <td>2100</td>\n",
       "      <td>2104</td>\n",
       "      <td>PERFORM PRESURE LINE  TEST W 4000 PSI.  PUMPED...</td>\n",
       "      <td>2.0</td>\n",
       "      <td>2907.0</td>\n",
       "    </tr>\n",
       "    <tr>\n",
       "      <th>25916</th>\n",
       "      <td>ODR</td>\n",
       "      <td>MOR D 02</td>\n",
       "      <td>2009-08-22 17:30:00</td>\n",
       "      <td>2009-08-22 19:00:00</td>\n",
       "      <td>2907.0</td>\n",
       "      <td>2907.0</td>\n",
       "      <td>1500</td>\n",
       "      <td>1503</td>\n",
       "      <td>CONDITIONED BRINE TO PERFORM CEMENT JOB</td>\n",
       "      <td>1.5</td>\n",
       "      <td>2907.0</td>\n",
       "    </tr>\n",
       "    <tr>\n",
       "      <th>25917</th>\n",
       "      <td>ODR</td>\n",
       "      <td>MOR D 02</td>\n",
       "      <td>2009-08-22 10:00:00</td>\n",
       "      <td>2009-08-22 10:30:00</td>\n",
       "      <td>2907.0</td>\n",
       "      <td>2907.0</td>\n",
       "      <td>1700</td>\n",
       "      <td>1701</td>\n",
       "      <td>HELD PREOPERATIONAL METTING TO SET PACKER STAG...</td>\n",
       "      <td>0.5</td>\n",
       "      <td>2907.0</td>\n",
       "    </tr>\n",
       "    <tr>\n",
       "      <th>25918</th>\n",
       "      <td>ODR</td>\n",
       "      <td>MOR D 02</td>\n",
       "      <td>2009-08-23 00:00:00</td>\n",
       "      <td>2009-08-23 03:30:00</td>\n",
       "      <td>2907.0</td>\n",
       "      <td>2907.0</td>\n",
       "      <td>2100</td>\n",
       "      <td>2104</td>\n",
       "      <td>HELD PREOPERATIONAL MEETING TO 7\" CASING CEMEN...</td>\n",
       "      <td>3.5</td>\n",
       "      <td>2907.0</td>\n",
       "    </tr>\n",
       "    <tr>\n",
       "      <th>25919</th>\n",
       "      <td>ODR</td>\n",
       "      <td>MOR D 02</td>\n",
       "      <td>2009-08-23 03:30:00</td>\n",
       "      <td>2009-08-24 00:00:00</td>\n",
       "      <td>2907.0</td>\n",
       "      <td>2907.0</td>\n",
       "      <td>2100</td>\n",
       "      <td>2106</td>\n",
       "      <td>7\"CSG  CEMENT WOC</td>\n",
       "      <td>20.5</td>\n",
       "      <td>2907.0</td>\n",
       "    </tr>\n",
       "  </tbody>\n",
       "</table>\n",
       "<p>25920 rows × 11 columns</p>\n",
       "</div>"
      ],
      "text/plain": [
       "      Siglas     Nombre               Desde               Hasta  MD From (ft)  \\\n",
       "0        ODR  MOR BL 04 2011-05-25 08:00:00 2011-05-25 11:00:00        2773.0   \n",
       "1        ODR  MOR BL 04 2011-05-25 02:30:00 2011-05-25 08:00:00        2773.0   \n",
       "2        ODR  MOR BL 04 2011-05-25 00:00:00 2011-05-25 02:30:00        2773.0   \n",
       "3        ODR  MOR BL 04 2011-05-24 00:00:00 2011-05-24 03:30:00        2773.0   \n",
       "4        ODR  MOR BL 04 2011-05-24 21:30:00 2011-05-24 22:30:00        2773.0   \n",
       "...      ...        ...                 ...                 ...           ...   \n",
       "25915    ODR   MOR D 02 2009-08-22 11:00:00 2009-08-22 13:00:00        2907.0   \n",
       "25916    ODR   MOR D 02 2009-08-22 17:30:00 2009-08-22 19:00:00        2907.0   \n",
       "25917    ODR   MOR D 02 2009-08-22 10:00:00 2009-08-22 10:30:00        2907.0   \n",
       "25918    ODR   MOR D 02 2009-08-23 00:00:00 2009-08-23 03:30:00        2907.0   \n",
       "25919    ODR   MOR D 02 2009-08-23 03:30:00 2009-08-24 00:00:00        2907.0   \n",
       "\n",
       "       MD to (ft)  Codigo  Subcodigo  \\\n",
       "0          2773.0    1300       1304   \n",
       "1          2773.0    1100       1117   \n",
       "2          2773.0    1100       1116   \n",
       "3          2773.0    1500       1503   \n",
       "4          2773.0    1500       1503   \n",
       "...           ...     ...        ...   \n",
       "25915      2907.0    2100       2104   \n",
       "25916      2907.0    1500       1503   \n",
       "25917      2907.0    1700       1701   \n",
       "25918      2907.0    2100       2104   \n",
       "25919      2907.0    2100       2106   \n",
       "\n",
       "                                               Operación  Duracion  MD_Mean  \n",
       "0      HANG TBG ON 7 1/16\" CASING HEAD. DISCONNECTED ...       3.0   2773.0  \n",
       "1      RIH 2 7 /8\" TUBING EUE  (31.62 FT) + NIPLESILL...       5.5   2773.0  \n",
       "2      CONTD. POOH AND L/D 3 1/2'' DP + SETTING TOOL ...       2.5   2773.0  \n",
       "3      GRAVEL PACKING 5½\" LINER W/ 10-16 MESH GRAVEL ...       3.5   2773.0  \n",
       "4      CONDITIONED BRINE TO 9.5 PPG AND CIRCULATED AN...       1.0   2773.0  \n",
       "...                                                  ...       ...      ...  \n",
       "25915  PERFORM PRESURE LINE  TEST W 4000 PSI.  PUMPED...       2.0   2907.0  \n",
       "25916            CONDITIONED BRINE TO PERFORM CEMENT JOB       1.5   2907.0  \n",
       "25917  HELD PREOPERATIONAL METTING TO SET PACKER STAG...       0.5   2907.0  \n",
       "25918  HELD PREOPERATIONAL MEETING TO 7\" CASING CEMEN...       3.5   2907.0  \n",
       "25919                                  7\"CSG  CEMENT WOC      20.5   2907.0  \n",
       "\n",
       "[25920 rows x 11 columns]"
      ]
     },
     "execution_count": 42,
     "metadata": {},
     "output_type": "execute_result"
    }
   ],
   "source": [
    "data"
   ]
  },
  {
   "cell_type": "code",
   "execution_count": 43,
   "metadata": {},
   "outputs": [],
   "source": [
    "# Eliminacion de columnas innecesarias y cambio de nombre de columnas\n",
    "data = data.drop(['Desde', 'Hasta',\"MD From (ft)\",\"MD to (ft)\",\"Nombre\"], axis=1)\n",
    "data = data.rename({'Operación':\"Operacion\"}, axis=1)"
   ]
  },
  {
   "cell_type": "code",
   "execution_count": 44,
   "metadata": {},
   "outputs": [
    {
     "name": "stdout",
     "output_type": "stream",
     "text": [
      "<class 'pandas.core.frame.DataFrame'>\n",
      "RangeIndex: 25920 entries, 0 to 25919\n",
      "Data columns (total 6 columns):\n",
      " #   Column     Non-Null Count  Dtype  \n",
      "---  ------     --------------  -----  \n",
      " 0   Siglas     25920 non-null  object \n",
      " 1   Codigo     25920 non-null  int64  \n",
      " 2   Subcodigo  25920 non-null  int64  \n",
      " 3   Operacion  25920 non-null  object \n",
      " 4   Duracion   25920 non-null  float64\n",
      " 5   MD_Mean    25920 non-null  float64\n",
      "dtypes: float64(2), int64(2), object(2)\n",
      "memory usage: 1.2+ MB\n"
     ]
    }
   ],
   "source": [
    "data.info()"
   ]
  },
  {
   "cell_type": "code",
   "execution_count": 45,
   "metadata": {},
   "outputs": [
    {
     "data": {
      "text/html": [
       "<div>\n",
       "<style scoped>\n",
       "    .dataframe tbody tr th:only-of-type {\n",
       "        vertical-align: middle;\n",
       "    }\n",
       "\n",
       "    .dataframe tbody tr th {\n",
       "        vertical-align: top;\n",
       "    }\n",
       "\n",
       "    .dataframe thead th {\n",
       "        text-align: right;\n",
       "    }\n",
       "</style>\n",
       "<table border=\"1\" class=\"dataframe\">\n",
       "  <thead>\n",
       "    <tr style=\"text-align: right;\">\n",
       "      <th></th>\n",
       "      <th>Siglas</th>\n",
       "      <th>Codigo</th>\n",
       "      <th>Subcodigo</th>\n",
       "      <th>Operacion</th>\n",
       "      <th>Duracion</th>\n",
       "      <th>MD_Mean</th>\n",
       "    </tr>\n",
       "  </thead>\n",
       "  <tbody>\n",
       "    <tr>\n",
       "      <th>0</th>\n",
       "      <td>ODR</td>\n",
       "      <td>1300</td>\n",
       "      <td>1304</td>\n",
       "      <td>HANG TBG ON 7 1/16\" CASING HEAD. DISCONNECTED ...</td>\n",
       "      <td>3.0</td>\n",
       "      <td>2773.0</td>\n",
       "    </tr>\n",
       "    <tr>\n",
       "      <th>1</th>\n",
       "      <td>ODR</td>\n",
       "      <td>1100</td>\n",
       "      <td>1117</td>\n",
       "      <td>RIH 2 7 /8\" TUBING EUE  (31.62 FT) + NIPLESILL...</td>\n",
       "      <td>5.5</td>\n",
       "      <td>2773.0</td>\n",
       "    </tr>\n",
       "    <tr>\n",
       "      <th>2</th>\n",
       "      <td>ODR</td>\n",
       "      <td>1100</td>\n",
       "      <td>1116</td>\n",
       "      <td>CONTD. POOH AND L/D 3 1/2'' DP + SETTING TOOL ...</td>\n",
       "      <td>2.5</td>\n",
       "      <td>2773.0</td>\n",
       "    </tr>\n",
       "    <tr>\n",
       "      <th>3</th>\n",
       "      <td>ODR</td>\n",
       "      <td>1500</td>\n",
       "      <td>1503</td>\n",
       "      <td>GRAVEL PACKING 5½\" LINER W/ 10-16 MESH GRAVEL ...</td>\n",
       "      <td>3.5</td>\n",
       "      <td>2773.0</td>\n",
       "    </tr>\n",
       "    <tr>\n",
       "      <th>4</th>\n",
       "      <td>ODR</td>\n",
       "      <td>1500</td>\n",
       "      <td>1503</td>\n",
       "      <td>CONDITIONED BRINE TO 9.5 PPG AND CIRCULATED AN...</td>\n",
       "      <td>1.0</td>\n",
       "      <td>2773.0</td>\n",
       "    </tr>\n",
       "    <tr>\n",
       "      <th>...</th>\n",
       "      <td>...</td>\n",
       "      <td>...</td>\n",
       "      <td>...</td>\n",
       "      <td>...</td>\n",
       "      <td>...</td>\n",
       "      <td>...</td>\n",
       "    </tr>\n",
       "    <tr>\n",
       "      <th>25915</th>\n",
       "      <td>ODR</td>\n",
       "      <td>2100</td>\n",
       "      <td>2104</td>\n",
       "      <td>PERFORM PRESURE LINE  TEST W 4000 PSI.  PUMPED...</td>\n",
       "      <td>2.0</td>\n",
       "      <td>2907.0</td>\n",
       "    </tr>\n",
       "    <tr>\n",
       "      <th>25916</th>\n",
       "      <td>ODR</td>\n",
       "      <td>1500</td>\n",
       "      <td>1503</td>\n",
       "      <td>CONDITIONED BRINE TO PERFORM CEMENT JOB</td>\n",
       "      <td>1.5</td>\n",
       "      <td>2907.0</td>\n",
       "    </tr>\n",
       "    <tr>\n",
       "      <th>25917</th>\n",
       "      <td>ODR</td>\n",
       "      <td>1700</td>\n",
       "      <td>1701</td>\n",
       "      <td>HELD PREOPERATIONAL METTING TO SET PACKER STAG...</td>\n",
       "      <td>0.5</td>\n",
       "      <td>2907.0</td>\n",
       "    </tr>\n",
       "    <tr>\n",
       "      <th>25918</th>\n",
       "      <td>ODR</td>\n",
       "      <td>2100</td>\n",
       "      <td>2104</td>\n",
       "      <td>HELD PREOPERATIONAL MEETING TO 7\" CASING CEMEN...</td>\n",
       "      <td>3.5</td>\n",
       "      <td>2907.0</td>\n",
       "    </tr>\n",
       "    <tr>\n",
       "      <th>25919</th>\n",
       "      <td>ODR</td>\n",
       "      <td>2100</td>\n",
       "      <td>2106</td>\n",
       "      <td>7\"CSG  CEMENT WOC</td>\n",
       "      <td>20.5</td>\n",
       "      <td>2907.0</td>\n",
       "    </tr>\n",
       "  </tbody>\n",
       "</table>\n",
       "<p>25920 rows × 6 columns</p>\n",
       "</div>"
      ],
      "text/plain": [
       "      Siglas  Codigo  Subcodigo  \\\n",
       "0        ODR    1300       1304   \n",
       "1        ODR    1100       1117   \n",
       "2        ODR    1100       1116   \n",
       "3        ODR    1500       1503   \n",
       "4        ODR    1500       1503   \n",
       "...      ...     ...        ...   \n",
       "25915    ODR    2100       2104   \n",
       "25916    ODR    1500       1503   \n",
       "25917    ODR    1700       1701   \n",
       "25918    ODR    2100       2104   \n",
       "25919    ODR    2100       2106   \n",
       "\n",
       "                                               Operacion  Duracion  MD_Mean  \n",
       "0      HANG TBG ON 7 1/16\" CASING HEAD. DISCONNECTED ...       3.0   2773.0  \n",
       "1      RIH 2 7 /8\" TUBING EUE  (31.62 FT) + NIPLESILL...       5.5   2773.0  \n",
       "2      CONTD. POOH AND L/D 3 1/2'' DP + SETTING TOOL ...       2.5   2773.0  \n",
       "3      GRAVEL PACKING 5½\" LINER W/ 10-16 MESH GRAVEL ...       3.5   2773.0  \n",
       "4      CONDITIONED BRINE TO 9.5 PPG AND CIRCULATED AN...       1.0   2773.0  \n",
       "...                                                  ...       ...      ...  \n",
       "25915  PERFORM PRESURE LINE  TEST W 4000 PSI.  PUMPED...       2.0   2907.0  \n",
       "25916            CONDITIONED BRINE TO PERFORM CEMENT JOB       1.5   2907.0  \n",
       "25917  HELD PREOPERATIONAL METTING TO SET PACKER STAG...       0.5   2907.0  \n",
       "25918  HELD PREOPERATIONAL MEETING TO 7\" CASING CEMEN...       3.5   2907.0  \n",
       "25919                                  7\"CSG  CEMENT WOC      20.5   2907.0  \n",
       "\n",
       "[25920 rows x 6 columns]"
      ]
     },
     "execution_count": 45,
     "metadata": {},
     "output_type": "execute_result"
    }
   ],
   "source": [
    "data"
   ]
  },
  {
   "cell_type": "markdown",
   "metadata": {},
   "source": [
    "## 2. Preprocesamiento Para NPL"
   ]
  },
  {
   "cell_type": "markdown",
   "metadata": {},
   "source": [
    "### 2.1 Selección De Los Datos y El Target"
   ]
  },
  {
   "cell_type": "code",
   "execution_count": 46,
   "metadata": {},
   "outputs": [],
   "source": [
    "y = data.Siglas\n",
    "X = data.Operacion"
   ]
  },
  {
   "cell_type": "markdown",
   "metadata": {},
   "source": [
    "### 2.2 Codificacion y Remocion De Caracteres Especiales, Lematizacion y Minúsculas"
   ]
  },
  {
   "cell_type": "code",
   "execution_count": 47,
   "metadata": {},
   "outputs": [
    {
     "data": {
      "text/plain": [
       "LabelEncoder()"
      ]
     },
     "execution_count": 47,
     "metadata": {},
     "output_type": "execute_result"
    }
   ],
   "source": [
    "# Codificacion Del Target\n",
    "le = preprocessing.LabelEncoder()\n",
    "le.fit([\"ODR\", \"OCM\"])\n",
    "y = le.transform(y)"
   ]
  },
  {
   "cell_type": "code",
   "execution_count": 48,
   "metadata": {},
   "outputs": [
    {
     "name": "stderr",
     "output_type": "stream",
     "text": [
      "[nltk_data] Downloading package wordnet to C:\\Users\\Diego\n",
      "[nltk_data]     Ojeda\\AppData\\Roaming\\nltk_data...\n",
      "[nltk_data]   Package wordnet is already up-to-date!\n"
     ]
    },
    {
     "data": {
      "text/plain": [
       "True"
      ]
     },
     "execution_count": 48,
     "metadata": {},
     "output_type": "execute_result"
    }
   ],
   "source": [
    "import nltk\n",
    "nltk.download('wordnet')\n",
    "\n",
    "documents = []\n",
    "\n",
    "stemmer = WordNetLemmatizer()\n",
    "\n",
    "for sen in range(0, len(X)):\n",
    "\n",
    "    # Removemos los caracteres especiales\n",
    "    document = re.sub(r'\\W', ' ', str(X[sen]))\n",
    "    \n",
    "    # Removemos todos las cadenas de caracteres de un solo caracter\n",
    "    document = re.sub(r'\\s+[a-zA-Z]\\s+', ' ', document)\n",
    "    \n",
    "    # Removemos caracteres sencillso al inicio\n",
    "    document = re.sub(r'\\^[a-zA-Z]\\s+', ' ', document) \n",
    "    \n",
    "    # Substituimos dobles espacios por espacios sencillos\n",
    "    document = re.sub(r'\\s+', ' ', document, flags=re.I)\n",
    "    \n",
    "    # Convertimos todo a minusculas\n",
    "    document = document.lower()\n",
    "    \n",
    "    # Realizamos Lematizacion\n",
    "    document = document.split()\n",
    "\n",
    "    document = [stemmer.lemmatize(word) for word in document]\n",
    "    document = ' '.join(document)\n",
    "    \n",
    "    documents.append(document)"
   ]
  },
  {
   "cell_type": "markdown",
   "metadata": {},
   "source": [
    "### 2.3 Realizamos Vectorizacion"
   ]
  },
  {
   "cell_type": "code",
   "execution_count": 49,
   "metadata": {},
   "outputs": [],
   "source": [
    "vectorizer = CountVectorizer(max_features=1500, min_df=5, max_df=0.7, stop_words=stopwords.words('english'))\n",
    "X = vectorizer.fit_transform(documents).toarray()"
   ]
  },
  {
   "cell_type": "markdown",
   "metadata": {},
   "source": [
    "### 2.4 Realizamos Calcuos de TF-I-DF"
   ]
  },
  {
   "cell_type": "code",
   "execution_count": 50,
   "metadata": {},
   "outputs": [],
   "source": [
    "tfidfconverter = TfidfTransformer()\n",
    "X = tfidfconverter.fit_transform(X).toarray()"
   ]
  },
  {
   "cell_type": "markdown",
   "metadata": {},
   "source": [
    "## 3. Pruebas De Modelos"
   ]
  },
  {
   "cell_type": "markdown",
   "metadata": {},
   "source": [
    "### 3.1 Division Entre Train & Test"
   ]
  },
  {
   "cell_type": "code",
   "execution_count": 51,
   "metadata": {},
   "outputs": [],
   "source": [
    "X_train, X_test, y_train, y_test = train_test_split(X, y, test_size=0.2, random_state=0)"
   ]
  },
  {
   "cell_type": "markdown",
   "metadata": {},
   "source": [
    "### 3.2 Random Forest Classifier"
   ]
  },
  {
   "cell_type": "markdown",
   "metadata": {},
   "source": [
    "#### 3.2.1 Entrenamiento Con Valores Por Defecto Random Forest Classifier"
   ]
  },
  {
   "cell_type": "code",
   "execution_count": 52,
   "metadata": {},
   "outputs": [
    {
     "data": {
      "text/plain": [
       "RandomForestClassifier(n_estimators=1000, random_state=0)"
      ]
     },
     "execution_count": 52,
     "metadata": {},
     "output_type": "execute_result"
    }
   ],
   "source": [
    "classifier = RandomForestClassifier(n_estimators=1000, random_state=0)\n",
    "classifier.fit(X_train, y_train)"
   ]
  },
  {
   "cell_type": "markdown",
   "metadata": {},
   "source": []
  },
  {
   "cell_type": "code",
   "execution_count": 53,
   "metadata": {},
   "outputs": [
    {
     "data": {
      "text/plain": [
       "array([1, 1, 1, ..., 1, 1, 1])"
      ]
     },
     "execution_count": 53,
     "metadata": {},
     "output_type": "execute_result"
    }
   ],
   "source": [
    "y_pred = classifier.predict(X_test)\n",
    "y_pred"
   ]
  },
  {
   "cell_type": "code",
   "execution_count": 54,
   "metadata": {},
   "outputs": [
    {
     "name": "stdout",
     "output_type": "stream",
     "text": [
      "[[ 111  112]\n",
      " [  57 4904]]\n",
      "              precision    recall  f1-score   support\n",
      "\n",
      "           0       0.66      0.50      0.57       223\n",
      "           1       0.98      0.99      0.98      4961\n",
      "\n",
      "    accuracy                           0.97      5184\n",
      "   macro avg       0.82      0.74      0.78      5184\n",
      "weighted avg       0.96      0.97      0.97      5184\n",
      "\n",
      "0.9673996913580247\n"
     ]
    }
   ],
   "source": [
    "print(confusion_matrix(y_test,y_pred))\n",
    "print(classification_report(y_test,y_pred))\n",
    "print(accuracy_score(y_test, y_pred))"
   ]
  },
  {
   "cell_type": "markdown",
   "metadata": {},
   "source": [
    "#### 3.2.2 Hyperparameter Tunning Random Forest Classifier"
   ]
  },
  {
   "cell_type": "code",
   "execution_count": 55,
   "metadata": {},
   "outputs": [],
   "source": [
    "from sklearn.model_selection import RandomizedSearchCV\n",
    "\n",
    "# Definimos los interevalos de parámetros a utilizar\n",
    "#---------------------------------------------------\n",
    "\n",
    "# Numero de arboles del modelo\n",
    "n_estimators = [int(x) for x in np.linspace(start=200, stop=2000,num=10)]\n",
    "\n",
    "# Numero de variables a considerar en cada division del arbol\n",
    "max_features = [\"auto\",\"sqrt\"]\n",
    "\n",
    "# Maximo numero de niveles (profundidad) en cada arbol\n",
    "max_depth = [int(x) for x in np.linspace(10,100, num = 11)]\n",
    "max_depth.append(None)\n",
    "\n",
    "# Minimo numero de muestras requeridas para dividir un nodo\n",
    "min_samples_split = [2,5,10]\n",
    "\n",
    "# Minimo numero de muestras requeridas en cada nodo final\n",
    "min_samples_leaf = [1,2,4]\n",
    "\n",
    "# Metodo de seleccion de muestras para entrenamiento en cada arbol\n",
    "bootstrap = [True,False]\n",
    "\n",
    "# Creamos la grilla aleatoria\n",
    "random_grid = {\"n_estimators\":n_estimators,\n",
    "               \"max_features\": max_features,\n",
    "               \"max_depth\":max_depth,\n",
    "               \"min_samples_split\":min_samples_split,\n",
    "               \"min_samples_leaf\":min_samples_leaf,\n",
    "               \"bootstrap\":bootstrap\n",
    "                }"
   ]
  },
  {
   "cell_type": "code",
   "execution_count": 57,
   "metadata": {},
   "outputs": [
    {
     "name": "stdout",
     "output_type": "stream",
     "text": [
      "Fitting 3 folds for each of 10 candidates, totalling 30 fits\n"
     ]
    },
    {
     "data": {
      "text/plain": [
       "RandomizedSearchCV(cv=3, estimator=RandomForestClassifier(), n_jobs=-1,\n",
       "                   param_distributions={'bootstrap': [True, False],\n",
       "                                        'max_depth': [10, 19, 28, 37, 46, 55,\n",
       "                                                      64, 73, 82, 91, 100,\n",
       "                                                      None],\n",
       "                                        'max_features': ['auto', 'sqrt'],\n",
       "                                        'min_samples_leaf': [1, 2, 4],\n",
       "                                        'min_samples_split': [2, 5, 10],\n",
       "                                        'n_estimators': [200, 400, 600, 800,\n",
       "                                                         1000, 1200, 1400, 1600,\n",
       "                                                         1800, 2000]},\n",
       "                   random_state=42, verbose=2)"
      ]
     },
     "execution_count": 57,
     "metadata": {},
     "output_type": "execute_result"
    }
   ],
   "source": [
    "# Entrenaremos un modelo a traves de la malla de busqueda\n",
    "#--------------------------------------------------------\n",
    "\n",
    "# Instanciamos el modelo\n",
    "rf = RandomForestClassifier()\n",
    "\n",
    "# Creamos el modelo usando RandomSearchCV\n",
    "rf_random = RandomizedSearchCV(estimator=rf,\n",
    "                               param_distributions=random_grid,\n",
    "                               n_iter=10,\n",
    "                               cv=3,\n",
    "                               verbose=2,\n",
    "                               random_state=42,\n",
    "                               n_jobs=-1\n",
    "                                )\n",
    "\n",
    "rf_random.fit(X_train,y_train)"
   ]
  },
  {
   "cell_type": "code",
   "execution_count": 58,
   "metadata": {},
   "outputs": [
    {
     "data": {
      "text/plain": [
       "{'n_estimators': 400,\n",
       " 'min_samples_split': 10,\n",
       " 'min_samples_leaf': 1,\n",
       " 'max_features': 'sqrt',\n",
       " 'max_depth': 55,\n",
       " 'bootstrap': False}"
      ]
     },
     "execution_count": 58,
     "metadata": {},
     "output_type": "execute_result"
    }
   ],
   "source": [
    "# Veremos los parámetros que dieron el mejor resultado\n",
    "rf_random.best_params_"
   ]
  },
  {
   "cell_type": "code",
   "execution_count": 59,
   "metadata": {},
   "outputs": [
    {
     "data": {
      "text/plain": [
       "0.9714506172839507"
      ]
     },
     "execution_count": 59,
     "metadata": {},
     "output_type": "execute_result"
    }
   ],
   "source": [
    "rf_random.best_score_"
   ]
  },
  {
   "cell_type": "code",
   "execution_count": 61,
   "metadata": {},
   "outputs": [
    {
     "data": {
      "text/plain": [
       "array([1, 1, 1, ..., 1, 1, 1])"
      ]
     },
     "execution_count": 61,
     "metadata": {},
     "output_type": "execute_result"
    }
   ],
   "source": [
    "y_pred = rf_random.predict(X_test)\n",
    "y_pred"
   ]
  },
  {
   "cell_type": "code",
   "execution_count": null,
   "metadata": {},
   "outputs": [],
   "source": []
  },
  {
   "cell_type": "code",
   "execution_count": 62,
   "metadata": {},
   "outputs": [
    {
     "name": "stdout",
     "output_type": "stream",
     "text": [
      "[[ 102  121]\n",
      " [  46 4915]]\n",
      "              precision    recall  f1-score   support\n",
      "\n",
      "           0       0.69      0.46      0.55       223\n",
      "           1       0.98      0.99      0.98      4961\n",
      "\n",
      "    accuracy                           0.97      5184\n",
      "   macro avg       0.83      0.72      0.77      5184\n",
      "weighted avg       0.96      0.97      0.96      5184\n",
      "\n",
      "0.9677854938271605\n"
     ]
    }
   ],
   "source": [
    "print(confusion_matrix(y_test,y_pred))\n",
    "print(classification_report(y_test,y_pred))\n",
    "print(accuracy_score(y_test, y_pred))"
   ]
  },
  {
   "cell_type": "code",
   "execution_count": 67,
   "metadata": {},
   "outputs": [
    {
     "data": {
      "text/plain": [
       "0.9646501512390092"
      ]
     },
     "execution_count": 67,
     "metadata": {},
     "output_type": "execute_result"
    }
   ],
   "source": [
    "from sklearn.metrics import f1_score\n",
    "f1_score(y_test, y_pred,average=\"weighted\")"
   ]
  },
  {
   "cell_type": "code",
   "execution_count": 68,
   "metadata": {},
   "outputs": [],
   "source": [
    "import pickle\n",
    "\n",
    "filename = 'rf.sav'\n",
    "pickle.dump(rf_random, open(filename, 'wb'))\n"
   ]
  },
  {
   "cell_type": "markdown",
   "metadata": {},
   "source": []
  },
  {
   "cell_type": "markdown",
   "metadata": {},
   "source": []
  }
 ],
 "metadata": {
  "interpreter": {
   "hash": "463faa1558641b96f496a1e838e3646ce3a33b56e1a786b33acec479f32e12fc"
  },
  "kernelspec": {
   "display_name": "Python 3.9.7 ('base')",
   "language": "python",
   "name": "python3"
  },
  "language_info": {
   "codemirror_mode": {
    "name": "ipython",
    "version": 3
   },
   "file_extension": ".py",
   "mimetype": "text/x-python",
   "name": "python",
   "nbconvert_exporter": "python",
   "pygments_lexer": "ipython3",
   "version": "3.9.7"
  },
  "orig_nbformat": 4
 },
 "nbformat": 4,
 "nbformat_minor": 2
}
