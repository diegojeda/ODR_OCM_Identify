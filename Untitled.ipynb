{
 "cells": [
  {
   "cell_type": "code",
   "execution_count": 1,
   "id": "d0d2a566",
   "metadata": {},
   "outputs": [],
   "source": [
    "import pandas as pd\n",
    "import numpy as np\n",
    "from numpy import loadtxt\n",
    "from pylab import *\n",
    "import seaborn as sns\n",
    "from IPython.core.interactiveshell import InteractiveShell  \n",
    "InteractiveShell.ast_node_interactivity = \"all\"\n",
    "from IPython.display import display, HTML\n",
    "from scipy import stats\n",
    "import matplotlib.pyplot as plt\n",
    "import os\n",
    "import missingno as msno;"
   ]
  },
  {
   "cell_type": "code",
   "execution_count": 2,
   "id": "25044640",
   "metadata": {},
   "outputs": [],
   "source": [
    "path='Data.xlsx'\n",
    "data=pd.read_excel(path);"
   ]
  },
  {
   "cell_type": "code",
   "execution_count": 3,
   "id": "981beb4d",
   "metadata": {},
   "outputs": [
    {
     "data": {
      "text/plain": [
       "(27185, 9)"
      ]
     },
     "execution_count": 3,
     "metadata": {},
     "output_type": "execute_result"
    }
   ],
   "source": [
    "#check the shape of data\n",
    "data.shape"
   ]
  },
  {
   "cell_type": "code",
   "execution_count": 4,
   "id": "9fb08d3b",
   "metadata": {},
   "outputs": [
    {
     "name": "stdout",
     "output_type": "stream",
     "text": [
      "<class 'pandas.core.frame.DataFrame'>\n",
      "RangeIndex: 27185 entries, 0 to 27184\n",
      "Data columns (total 9 columns):\n",
      " #   Column        Non-Null Count  Dtype         \n",
      "---  ------        --------------  -----         \n",
      " 0   Siglas        27185 non-null  object        \n",
      " 1   Nombre        27185 non-null  object        \n",
      " 2   Desde         27184 non-null  datetime64[ns]\n",
      " 3   Hasta         27184 non-null  datetime64[ns]\n",
      " 4   MD From (ft)  26180 non-null  float64       \n",
      " 5   MD to (ft)    26162 non-null  float64       \n",
      " 6   Codigo        27185 non-null  object        \n",
      " 7   Subcodigo     26936 non-null  float64       \n",
      " 8   Operación     27180 non-null  object        \n",
      "dtypes: datetime64[ns](2), float64(3), object(4)\n",
      "memory usage: 1.9+ MB\n"
     ]
    }
   ],
   "source": [
    "data.info()"
   ]
  },
  {
   "cell_type": "markdown",
   "id": "e91f4e19",
   "metadata": {},
   "source": [
    "## LIMPIEZA DE DATOS"
   ]
  },
  {
   "cell_type": "code",
   "execution_count": 13,
   "id": "2a3c2e06",
   "metadata": {},
   "outputs": [],
   "source": [
    "data = data.reset_index(drop=True)"
   ]
  },
  {
   "cell_type": "code",
   "execution_count": 14,
   "id": "11ec43f3",
   "metadata": {
    "scrolled": true
   },
   "outputs": [
    {
     "data": {
      "text/plain": [
       "Siglas                                                        ODR\n",
       "Nombre                                                  MOR BL 04\n",
       "Desde                                         2011-05-25 08:00:00\n",
       "Hasta                                         2011-05-25 11:00:00\n",
       "MD From (ft)                                               2773.0\n",
       "MD to (ft)                                                 2773.0\n",
       "Codigo                                                       1300\n",
       "Subcodigo                                                  1304.0\n",
       "Operación       hang tbg on 7 1 16  casing head  disconnected ...\n",
       "Name: 0, dtype: object"
      ]
     },
     "execution_count": 14,
     "metadata": {},
     "output_type": "execute_result"
    }
   ],
   "source": [
    "data.iloc[0]"
   ]
  },
  {
   "cell_type": "code",
   "execution_count": 17,
   "id": "9db61197",
   "metadata": {},
   "outputs": [],
   "source": [
    "def encuentra_key(base,pozo,key):\n",
    "    '''\n",
    "    Funcion que dada una base de datos, y una clave, encuentra los indices de la fila donde se encuentra el key\n",
    "    ----------------------------------------------------------------------------------------------------------\n",
    "    \n",
    "    - base: Dataframe con una columna de texto, lamada Operación\n",
    "    - key: Cadena de caracteres que se vá a buscar en cada fila de la columna Operación  \n",
    "    \n",
    "    '''\n",
    "    base = base[base[\"Nombre\"]==pozo]\n",
    "    \n",
    "    indice=[]\n",
    "\n",
    "    for fila in range(0,len(base)):\n",
    "\n",
    "        fullstring = data[\"Operación\"][fila]\n",
    "        substring = key\n",
    "\n",
    "        if substring in fullstring:\n",
    "            indice.append(fila)\n",
    "            \n",
    "    ID = indice[-1]\n",
    "    \n",
    "    base.iloc[ID]\n",
    "            \n",
    "    return pd.DataFrame(base.iloc[ID+1]).T\n",
    "    #return base"
   ]
  },
  {
   "cell_type": "code",
   "execution_count": 20,
   "id": "4a71174b",
   "metadata": {},
   "outputs": [
    {
     "ename": "IndexError",
     "evalue": "list index out of range",
     "output_type": "error",
     "traceback": [
      "\u001b[1;31m---------------------------------------------------------------------------\u001b[0m",
      "\u001b[1;31mIndexError\u001b[0m                                Traceback (most recent call last)",
      "\u001b[1;32m<ipython-input-20-921f682deb3b>\u001b[0m in \u001b[0;36m<module>\u001b[1;34m\u001b[0m\n\u001b[1;32m----> 1\u001b[1;33m \u001b[0mencuentra_key\u001b[0m\u001b[1;33m(\u001b[0m\u001b[0mdata\u001b[0m\u001b[1;33m,\u001b[0m\u001b[1;34m\"MOR BL 04\"\u001b[0m\u001b[1;33m,\u001b[0m\u001b[1;34m\"SETTING TOOL\"\u001b[0m\u001b[1;33m)\u001b[0m\u001b[1;33m\u001b[0m\u001b[1;33m\u001b[0m\u001b[0m\n\u001b[0m",
      "\u001b[1;32m<ipython-input-17-7e31828a3698>\u001b[0m in \u001b[0;36mencuentra_key\u001b[1;34m(base, pozo, key)\u001b[0m\n\u001b[0;32m     20\u001b[0m             \u001b[0mindice\u001b[0m\u001b[1;33m.\u001b[0m\u001b[0mappend\u001b[0m\u001b[1;33m(\u001b[0m\u001b[0mfila\u001b[0m\u001b[1;33m)\u001b[0m\u001b[1;33m\u001b[0m\u001b[1;33m\u001b[0m\u001b[0m\n\u001b[0;32m     21\u001b[0m \u001b[1;33m\u001b[0m\u001b[0m\n\u001b[1;32m---> 22\u001b[1;33m     \u001b[0mID\u001b[0m \u001b[1;33m=\u001b[0m \u001b[0mindice\u001b[0m\u001b[1;33m[\u001b[0m\u001b[1;33m-\u001b[0m\u001b[1;36m1\u001b[0m\u001b[1;33m]\u001b[0m\u001b[1;33m\u001b[0m\u001b[1;33m\u001b[0m\u001b[0m\n\u001b[0m\u001b[0;32m     23\u001b[0m \u001b[1;33m\u001b[0m\u001b[0m\n\u001b[0;32m     24\u001b[0m     \u001b[0mbase\u001b[0m\u001b[1;33m.\u001b[0m\u001b[0miloc\u001b[0m\u001b[1;33m[\u001b[0m\u001b[0mID\u001b[0m\u001b[1;33m]\u001b[0m\u001b[1;33m\u001b[0m\u001b[1;33m\u001b[0m\u001b[0m\n",
      "\u001b[1;31mIndexError\u001b[0m: list index out of range"
     ]
    }
   ],
   "source": [
    "encuentra_key(data,\"MOR BL 04\",\"SETTING TOOL\")"
   ]
  },
  {
   "cell_type": "code",
   "execution_count": null,
   "id": "c3bfde93",
   "metadata": {},
   "outputs": [],
   "source": []
  }
 ],
 "metadata": {
  "kernelspec": {
   "display_name": "Python 3",
   "language": "python",
   "name": "python3"
  },
  "language_info": {
   "codemirror_mode": {
    "name": "ipython",
    "version": 3
   },
   "file_extension": ".py",
   "mimetype": "text/x-python",
   "name": "python",
   "nbconvert_exporter": "python",
   "pygments_lexer": "ipython3",
   "version": "3.8.8"
  }
 },
 "nbformat": 4,
 "nbformat_minor": 5
}
