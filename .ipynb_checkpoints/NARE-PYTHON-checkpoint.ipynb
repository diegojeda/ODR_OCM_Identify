{
 "cells": [
  {
   "cell_type": "code",
   "execution_count": 1,
   "id": "b9d55995",
   "metadata": {},
   "outputs": [],
   "source": [
    "import pandas as pd\n",
    "import numpy as np\n",
    "from numpy import loadtxt\n",
    "from pylab import *\n",
    "import seaborn as sns\n",
    "from IPython.core.interactiveshell import InteractiveShell  \n",
    "InteractiveShell.ast_node_interactivity = \"all\"\n",
    "from IPython.display import display, HTML\n",
    "from scipy import stats\n",
    "import matplotlib.pyplot as plt\n",
    "import os\n",
    "import missingno as msno;"
   ]
  },
  {
   "cell_type": "code",
   "execution_count": 2,
   "id": "0a3336e0",
   "metadata": {},
   "outputs": [],
   "source": [
    "path='Data.xlsx'\n",
    "data=pd.read_excel(path)"
   ]
  },
  {
   "cell_type": "code",
   "execution_count": 3,
   "id": "71b334d0",
   "metadata": {
    "scrolled": true
   },
   "outputs": [
    {
     "data": {
      "text/html": [
       "<div>\n",
       "<style scoped>\n",
       "    .dataframe tbody tr th:only-of-type {\n",
       "        vertical-align: middle;\n",
       "    }\n",
       "\n",
       "    .dataframe tbody tr th {\n",
       "        vertical-align: top;\n",
       "    }\n",
       "\n",
       "    .dataframe thead th {\n",
       "        text-align: right;\n",
       "    }\n",
       "</style>\n",
       "<table border=\"1\" class=\"dataframe\">\n",
       "  <thead>\n",
       "    <tr style=\"text-align: right;\">\n",
       "      <th></th>\n",
       "      <th>Siglas</th>\n",
       "      <th>Nombre</th>\n",
       "      <th>Desde</th>\n",
       "      <th>Hasta</th>\n",
       "      <th>MD From (ft)</th>\n",
       "      <th>MD to (ft)</th>\n",
       "      <th>Codigo</th>\n",
       "      <th>Subcodigo</th>\n",
       "      <th>Operación</th>\n",
       "    </tr>\n",
       "  </thead>\n",
       "  <tbody>\n",
       "    <tr>\n",
       "      <th>0</th>\n",
       "      <td>ODR</td>\n",
       "      <td>MOR BL 04</td>\n",
       "      <td>2011-05-25 08:00:00</td>\n",
       "      <td>2011-05-25 11:00:00</td>\n",
       "      <td>2773.0</td>\n",
       "      <td>2773.0</td>\n",
       "      <td>1300</td>\n",
       "      <td>1304.0</td>\n",
       "      <td>HANG TBG ON 7 1/16\" CASING HEAD. DISCONNECTED ...</td>\n",
       "    </tr>\n",
       "    <tr>\n",
       "      <th>1</th>\n",
       "      <td>ODR</td>\n",
       "      <td>MOR BL 04</td>\n",
       "      <td>2011-05-25 02:30:00</td>\n",
       "      <td>2011-05-25 08:00:00</td>\n",
       "      <td>2773.0</td>\n",
       "      <td>2773.0</td>\n",
       "      <td>1100</td>\n",
       "      <td>1117.0</td>\n",
       "      <td>RIH 2 7 /8\" TUBING EUE  (31.62 FT) + NIPLESILL...</td>\n",
       "    </tr>\n",
       "    <tr>\n",
       "      <th>2</th>\n",
       "      <td>ODR</td>\n",
       "      <td>MOR BL 04</td>\n",
       "      <td>2011-05-25 00:00:00</td>\n",
       "      <td>2011-05-25 02:30:00</td>\n",
       "      <td>2773.0</td>\n",
       "      <td>2773.0</td>\n",
       "      <td>1100</td>\n",
       "      <td>1116.0</td>\n",
       "      <td>CONTD. POOH AND L/D 3 1/2'' DP + SETTING TOOL ...</td>\n",
       "    </tr>\n",
       "    <tr>\n",
       "      <th>3</th>\n",
       "      <td>ODR</td>\n",
       "      <td>MOR BL 04</td>\n",
       "      <td>2011-05-24 00:00:00</td>\n",
       "      <td>2011-05-24 03:30:00</td>\n",
       "      <td>2773.0</td>\n",
       "      <td>2773.0</td>\n",
       "      <td>1500</td>\n",
       "      <td>1503.0</td>\n",
       "      <td>GRAVEL PACKING 5½\" LINER W/ 10-16 MESH GRAVEL ...</td>\n",
       "    </tr>\n",
       "    <tr>\n",
       "      <th>4</th>\n",
       "      <td>ODR</td>\n",
       "      <td>MOR BL 04</td>\n",
       "      <td>2011-05-24 21:30:00</td>\n",
       "      <td>2011-05-24 22:30:00</td>\n",
       "      <td>2773.0</td>\n",
       "      <td>2773.0</td>\n",
       "      <td>1500</td>\n",
       "      <td>1503.0</td>\n",
       "      <td>CONDITIONED BRINE TO 9.5 PPG AND CIRCULATED AN...</td>\n",
       "    </tr>\n",
       "    <tr>\n",
       "      <th>...</th>\n",
       "      <td>...</td>\n",
       "      <td>...</td>\n",
       "      <td>...</td>\n",
       "      <td>...</td>\n",
       "      <td>...</td>\n",
       "      <td>...</td>\n",
       "      <td>...</td>\n",
       "      <td>...</td>\n",
       "      <td>...</td>\n",
       "    </tr>\n",
       "    <tr>\n",
       "      <th>27180</th>\n",
       "      <td>ODR</td>\n",
       "      <td>MOR D 02</td>\n",
       "      <td>2009-08-22 17:30:00</td>\n",
       "      <td>2009-08-22 19:00:00</td>\n",
       "      <td>2907.0</td>\n",
       "      <td>2907.0</td>\n",
       "      <td>1500</td>\n",
       "      <td>1503.0</td>\n",
       "      <td>CONDITIONED BRINE TO PERFORM CEMENT JOB</td>\n",
       "    </tr>\n",
       "    <tr>\n",
       "      <th>27181</th>\n",
       "      <td>ODR</td>\n",
       "      <td>MOR D 02</td>\n",
       "      <td>2009-08-22 10:00:00</td>\n",
       "      <td>2009-08-22 10:30:00</td>\n",
       "      <td>2907.0</td>\n",
       "      <td>2907.0</td>\n",
       "      <td>1700</td>\n",
       "      <td>1701.0</td>\n",
       "      <td>HELD PREOPERATIONAL METTING TO SET PACKER STAG...</td>\n",
       "    </tr>\n",
       "    <tr>\n",
       "      <th>27182</th>\n",
       "      <td>ODR</td>\n",
       "      <td>MOR D 02</td>\n",
       "      <td>2009-08-23 00:00:00</td>\n",
       "      <td>2009-08-23 03:30:00</td>\n",
       "      <td>2907.0</td>\n",
       "      <td>2907.0</td>\n",
       "      <td>2100</td>\n",
       "      <td>2104.0</td>\n",
       "      <td>HELD PREOPERATIONAL MEETING TO 7\" CASING CEMEN...</td>\n",
       "    </tr>\n",
       "    <tr>\n",
       "      <th>27183</th>\n",
       "      <td>ODR</td>\n",
       "      <td>MOR D 02</td>\n",
       "      <td>2009-08-23 03:30:00</td>\n",
       "      <td>2009-08-24 00:00:00</td>\n",
       "      <td>2907.0</td>\n",
       "      <td>2907.0</td>\n",
       "      <td>2100</td>\n",
       "      <td>2106.0</td>\n",
       "      <td>7\"CSG  CEMENT WOC</td>\n",
       "    </tr>\n",
       "    <tr>\n",
       "      <th>27184</th>\n",
       "      <td>OCM</td>\n",
       "      <td>MOR D 02</td>\n",
       "      <td>2009-08-28 00:00:00</td>\n",
       "      <td>2009-08-29 00:00:00</td>\n",
       "      <td>NaN</td>\n",
       "      <td>NaN</td>\n",
       "      <td>2200</td>\n",
       "      <td>2204.0</td>\n",
       "      <td>SE COMPLETA EL POZO CON EL BOMBEO DE 52 SACOS ...</td>\n",
       "    </tr>\n",
       "  </tbody>\n",
       "</table>\n",
       "<p>27185 rows × 9 columns</p>\n",
       "</div>"
      ],
      "text/plain": [
       "      Siglas     Nombre               Desde               Hasta  MD From (ft)  \\\n",
       "0        ODR  MOR BL 04 2011-05-25 08:00:00 2011-05-25 11:00:00        2773.0   \n",
       "1        ODR  MOR BL 04 2011-05-25 02:30:00 2011-05-25 08:00:00        2773.0   \n",
       "2        ODR  MOR BL 04 2011-05-25 00:00:00 2011-05-25 02:30:00        2773.0   \n",
       "3        ODR  MOR BL 04 2011-05-24 00:00:00 2011-05-24 03:30:00        2773.0   \n",
       "4        ODR  MOR BL 04 2011-05-24 21:30:00 2011-05-24 22:30:00        2773.0   \n",
       "...      ...        ...                 ...                 ...           ...   \n",
       "27180    ODR   MOR D 02 2009-08-22 17:30:00 2009-08-22 19:00:00        2907.0   \n",
       "27181    ODR   MOR D 02 2009-08-22 10:00:00 2009-08-22 10:30:00        2907.0   \n",
       "27182    ODR   MOR D 02 2009-08-23 00:00:00 2009-08-23 03:30:00        2907.0   \n",
       "27183    ODR   MOR D 02 2009-08-23 03:30:00 2009-08-24 00:00:00        2907.0   \n",
       "27184    OCM   MOR D 02 2009-08-28 00:00:00 2009-08-29 00:00:00           NaN   \n",
       "\n",
       "       MD to (ft) Codigo  Subcodigo  \\\n",
       "0          2773.0   1300     1304.0   \n",
       "1          2773.0   1100     1117.0   \n",
       "2          2773.0   1100     1116.0   \n",
       "3          2773.0   1500     1503.0   \n",
       "4          2773.0   1500     1503.0   \n",
       "...           ...    ...        ...   \n",
       "27180      2907.0   1500     1503.0   \n",
       "27181      2907.0   1700     1701.0   \n",
       "27182      2907.0   2100     2104.0   \n",
       "27183      2907.0   2100     2106.0   \n",
       "27184         NaN   2200     2204.0   \n",
       "\n",
       "                                               Operación  \n",
       "0      HANG TBG ON 7 1/16\" CASING HEAD. DISCONNECTED ...  \n",
       "1      RIH 2 7 /8\" TUBING EUE  (31.62 FT) + NIPLESILL...  \n",
       "2      CONTD. POOH AND L/D 3 1/2'' DP + SETTING TOOL ...  \n",
       "3      GRAVEL PACKING 5½\" LINER W/ 10-16 MESH GRAVEL ...  \n",
       "4      CONDITIONED BRINE TO 9.5 PPG AND CIRCULATED AN...  \n",
       "...                                                  ...  \n",
       "27180            CONDITIONED BRINE TO PERFORM CEMENT JOB  \n",
       "27181  HELD PREOPERATIONAL METTING TO SET PACKER STAG...  \n",
       "27182  HELD PREOPERATIONAL MEETING TO 7\" CASING CEMEN...  \n",
       "27183                                  7\"CSG  CEMENT WOC  \n",
       "27184  SE COMPLETA EL POZO CON EL BOMBEO DE 52 SACOS ...  \n",
       "\n",
       "[27185 rows x 9 columns]"
      ]
     },
     "execution_count": 3,
     "metadata": {},
     "output_type": "execute_result"
    }
   ],
   "source": [
    "data"
   ]
  },
  {
   "cell_type": "code",
   "execution_count": 4,
   "id": "b7576e4f",
   "metadata": {},
   "outputs": [
    {
     "data": {
      "text/plain": [
       "<AxesSubplot:xlabel='Siglas', ylabel='count'>"
      ]
     },
     "execution_count": 4,
     "metadata": {},
     "output_type": "execute_result"
    },
    {
     "data": {
      "image/png": "[encoded data removed]",
      "text/plain": [
       "<Figure size 432x288 with 1 Axes>"
      ]
     },
     "metadata": {
      "needs_background": "light"
     },
     "output_type": "display_data"
    }
   ],
   "source": [
    "sns.countplot(x='Siglas',data=data)"
   ]
  },
  {
   "cell_type": "code",
   "execution_count": 5,
   "id": "36f8b7a8",
   "metadata": {
    "scrolled": true
   },
   "outputs": [
    {
     "data": {
      "text/plain": [
       "(27185, 9)"
      ]
     },
     "execution_count": 5,
     "metadata": {},
     "output_type": "execute_result"
    }
   ],
   "source": [
    "#check the shape of data\n",
    "data.shape"
   ]
  },
  {
   "cell_type": "code",
   "execution_count": 6,
   "id": "b18ef21c-4270-4c83-bdf1-83f246e300d8",
   "metadata": {},
   "outputs": [
    {
     "name": "stdout",
     "output_type": "stream",
     "text": [
      "<class 'pandas.core.frame.DataFrame'>\n",
      "RangeIndex: 27185 entries, 0 to 27184\n",
      "Data columns (total 9 columns):\n",
      " #   Column        Non-Null Count  Dtype         \n",
      "---  ------        --------------  -----         \n",
      " 0   Siglas        27185 non-null  object        \n",
      " 1   Nombre        27185 non-null  object        \n",
      " 2   Desde         27184 non-null  datetime64[ns]\n",
      " 3   Hasta         27184 non-null  datetime64[ns]\n",
      " 4   MD From (ft)  26180 non-null  float64       \n",
      " 5   MD to (ft)    26162 non-null  float64       \n",
      " 6   Codigo        27185 non-null  object        \n",
      " 7   Subcodigo     26936 non-null  float64       \n",
      " 8   Operación     27180 non-null  object        \n",
      "dtypes: datetime64[ns](2), float64(3), object(4)\n",
      "memory usage: 1.9+ MB\n"
     ]
    }
   ],
   "source": [
    "data.info()"
   ]
  },
  {
   "cell_type": "code",
   "execution_count": 7,
   "id": "67e750d4-a152-46f3-9c30-aeb5875d2bdc",
   "metadata": {},
   "outputs": [
    {
     "name": "stderr",
     "output_type": "stream",
     "text": [
      "C:\\Users\\H254437\\AppData\\Local\\Temp/ipykernel_4016/2593462144.py:2: SettingWithCopyWarning: \n",
      "A value is trying to be set on a copy of a slice from a DataFrame.\n",
      "Try using .loc[row_indexer,col_indexer] = value instead\n",
      "\n",
      "See the caveats in the documentation: https://pandas.pydata.org/pandas-docs/stable/user_guide/indexing.html#returning-a-view-versus-a-copy\n",
      "  data['Codigo'] = pd.to_numeric(data['Codigo'],errors = 'coerce')\n"
     ]
    }
   ],
   "source": [
    "data = data.dropna()\n",
    "data['Codigo'] = pd.to_numeric(data['Codigo'],errors = 'coerce')\n",
    "data = data.reset_index(drop=True)"
   ]
  },
  {
   "cell_type": "code",
   "execution_count": 8,
   "id": "eb82329f-d70e-4a24-bfbd-c53f6d4b5f53",
   "metadata": {},
   "outputs": [
    {
     "name": "stdout",
     "output_type": "stream",
     "text": [
      "<class 'pandas.core.frame.DataFrame'>\n",
      "RangeIndex: 25920 entries, 0 to 25919\n",
      "Data columns (total 9 columns):\n",
      " #   Column        Non-Null Count  Dtype         \n",
      "---  ------        --------------  -----         \n",
      " 0   Siglas        25920 non-null  object        \n",
      " 1   Nombre        25920 non-null  object        \n",
      " 2   Desde         25920 non-null  datetime64[ns]\n",
      " 3   Hasta         25920 non-null  datetime64[ns]\n",
      " 4   MD From (ft)  25920 non-null  float64       \n",
      " 5   MD to (ft)    25920 non-null  float64       \n",
      " 6   Codigo        25920 non-null  int64         \n",
      " 7   Subcodigo     25920 non-null  float64       \n",
      " 8   Operación     25920 non-null  object        \n",
      "dtypes: datetime64[ns](2), float64(3), int64(1), object(3)\n",
      "memory usage: 1.8+ MB\n"
     ]
    }
   ],
   "source": [
    "data.info()"
   ]
  },
  {
   "cell_type": "markdown",
   "id": "2fbed0c9",
   "metadata": {},
   "source": [
    "## Setting up Environment in PyCaret"
   ]
  },
  {
   "cell_type": "code",
   "execution_count": 35,
   "id": "d4fa39f7",
   "metadata": {},
   "outputs": [
    {
     "data": {
      "text/html": [
       "<style type=\"text/css\">\n",
       "</style>\n",
       "<table id=\"T_85292_\">\n",
       "  <thead>\n",
       "    <tr>\n",
       "      <th class=\"col_heading level0 col0\" >Description</th>\n",
       "      <th class=\"col_heading level0 col1\" >Value</th>\n",
       "    </tr>\n",
       "  </thead>\n",
       "  <tbody>\n",
       "    <tr>\n",
       "      <td id=\"T_85292_row0_col0\" class=\"data row0 col0\" >session_id</td>\n",
       "      <td id=\"T_85292_row0_col1\" class=\"data row0 col1\" >123</td>\n",
       "    </tr>\n",
       "    <tr>\n",
       "      <td id=\"T_85292_row1_col0\" class=\"data row1 col0\" >Documents</td>\n",
       "      <td id=\"T_85292_row1_col1\" class=\"data row1 col1\" >25920</td>\n",
       "    </tr>\n",
       "    <tr>\n",
       "      <td id=\"T_85292_row2_col0\" class=\"data row2 col0\" >Vocab Size</td>\n",
       "      <td id=\"T_85292_row2_col1\" class=\"data row2 col1\" >2794</td>\n",
       "    </tr>\n",
       "    <tr>\n",
       "      <td id=\"T_85292_row3_col0\" class=\"data row3 col0\" >Custom Stopwords</td>\n",
       "      <td id=\"T_85292_row3_col1\" class=\"data row3 col1\" >False</td>\n",
       "    </tr>\n",
       "  </tbody>\n",
       "</table>\n"
      ],
      "text/plain": [
       "<pandas.io.formats.style.Styler at 0x1bb413a87c0>"
      ]
     },
     "metadata": {},
     "output_type": "display_data"
    }
   ],
   "source": [
    "from pycaret.nlp import *\n",
    "exp_nlp101 = setup(data = data, target = 'Operación', session_id = 123)"
   ]
  },
  {
   "cell_type": "markdown",
   "id": "3657c76c",
   "metadata": {},
   "source": [
    "## Create a Topic Model\n"
   ]
  },
  {
   "cell_type": "code",
   "execution_count": 36,
   "id": "5ffe2602",
   "metadata": {},
   "outputs": [],
   "source": [
    "lda = create_model('lda')"
   ]
  },
  {
   "cell_type": "code",
   "execution_count": 37,
   "id": "c302da09",
   "metadata": {},
   "outputs": [
    {
     "name": "stdout",
     "output_type": "stream",
     "text": [
      "LdaModel(num_terms=2794, num_topics=4, decay=0.5, chunksize=100)\n"
     ]
    }
   ],
   "source": [
    "print(lda)"
   ]
  },
  {
   "cell_type": "code",
   "execution_count": 38,
   "id": "cb5a659e",
   "metadata": {},
   "outputs": [
    {
     "data": {
      "text/plain": [
       "Index(['Siglas', 'Nombre', 'Desde', 'Hasta', 'MD From (ft)', 'MD to (ft)',\n",
       "       'Codigo', 'Subcodigo', 'Operación'],\n",
       "      dtype='object')"
      ]
     },
     "execution_count": 38,
     "metadata": {},
     "output_type": "execute_result"
    }
   ],
   "source": [
    "data.columns"
   ]
  },
  {
   "cell_type": "code",
   "execution_count": 39,
   "id": "9f37cce9",
   "metadata": {},
   "outputs": [
    {
     "data": {
      "text/plain": [
       "0        ODR\n",
       "1        ODR\n",
       "2        ODR\n",
       "3        ODR\n",
       "4        ODR\n",
       "        ... \n",
       "25915    ODR\n",
       "25916    ODR\n",
       "25917    ODR\n",
       "25918    ODR\n",
       "25919    ODR\n",
       "Name: Siglas, Length: 25920, dtype: object"
      ]
     },
     "execution_count": 39,
     "metadata": {},
     "output_type": "execute_result"
    }
   ],
   "source": [
    "data[\"Siglas\"]\n"
   ]
  },
  {
   "cell_type": "code",
   "execution_count": 40,
   "id": "619311b9",
   "metadata": {
    "tags": []
   },
   "outputs": [
    {
     "data": {
      "image/png": "[encoded data removed]",
      "text/plain": [
       "<Figure size 1800x720 with 2 Axes>"
      ]
     },
     "metadata": {
      "needs_background": "light"
     },
     "output_type": "display_data"
    }
   ],
   "source": [
    "msno.matrix(data);"
   ]
  },
  {
   "cell_type": "code",
   "execution_count": 41,
   "id": "f4ece42f",
   "metadata": {},
   "outputs": [
    {
     "data": {
      "application/vnd.jupyter.widget-view+json": {
       "model_id": "b82e6433418e4af4b679ee15afad74e8",
       "version_major": 2,
       "version_minor": 0
      },
      "text/plain": [
       "IntProgress(value=0, description='Processing: ', max=25)"
      ]
     },
     "metadata": {},
     "output_type": "display_data"
    },
    {
     "data": {
      "application/vnd.jupyter.widget-view+json": {
       "model_id": "45d78a19b9c14234b0e8add4de95a26a",
       "version_major": 2,
       "version_minor": 0
      },
      "text/plain": [
       "Output()"
      ]
     },
     "metadata": {},
     "output_type": "display_data"
    },
    {
     "data": {
      "text/html": [
       "        <script type=\"text/javascript\">\n",
       "        window.PlotlyConfig = {MathJaxConfig: 'local'};\n",
       "        if (window.MathJax) {MathJax.Hub.Config({SVG: {font: \"STIX-Web\"}});}\n",
       "        if (typeof require !== 'undefined') {\n",
       "        require.undef(\"plotly\");\n",
       "        requirejs.config({\n",
       "            paths: {\n",
       "                'plotly': ['https://cdn.plot.ly/plotly-2.8.3.min']\n",
       "            }\n",
       "        });\n",
       "        require(['plotly'], function(Plotly) {\n",
       "            window._Plotly = Plotly;\n",
       "        });\n",
       "        }\n",
       "        </script>\n",
       "        "
      ]
     },
     "metadata": {},
     "output_type": "display_data"
    },
    {
     "ename": "KeyError",
     "evalue": "\"['Siglas'] not found in axis\"",
     "output_type": "error",
     "traceback": [
      "\u001b[1;31m---------------------------------------------------------------------------\u001b[0m",
      "\u001b[1;31mKeyError\u001b[0m                                  Traceback (most recent call last)",
      "\u001b[1;32m~\\AppData\\Local\\Temp/ipykernel_860/3960930893.py\u001b[0m in \u001b[0;36m<module>\u001b[1;34m\u001b[0m\n\u001b[1;32m----> 1\u001b[1;33m \u001b[0mtuned_lda\u001b[0m \u001b[1;33m=\u001b[0m \u001b[0mtune_model\u001b[0m\u001b[1;33m(\u001b[0m\u001b[0mmodel\u001b[0m \u001b[1;33m=\u001b[0m \u001b[1;34m'lda'\u001b[0m\u001b[1;33m,\u001b[0m \u001b[0msupervised_target\u001b[0m \u001b[1;33m=\u001b[0m \u001b[1;34m'Siglas'\u001b[0m\u001b[1;33m,\u001b[0m\u001b[0mverbose\u001b[0m\u001b[1;33m=\u001b[0m\u001b[1;32mTrue\u001b[0m\u001b[1;33m)\u001b[0m\u001b[1;33m\u001b[0m\u001b[1;33m\u001b[0m\u001b[0m\n\u001b[0m",
      "\u001b[1;32m~\\Anaconda3\\lib\\site-packages\\pycaret\\nlp.py\u001b[0m in \u001b[0;36mtune_model\u001b[1;34m(model, multi_core, supervised_target, estimator, optimize, custom_grid, auto_fe, fold, verbose)\u001b[0m\n\u001b[0;32m   3545\u001b[0m \u001b[1;33m\u001b[0m\u001b[0m\n\u001b[0;32m   3546\u001b[0m             \u001b[1;31m# split the dataset\u001b[0m\u001b[1;33m\u001b[0m\u001b[1;33m\u001b[0m\u001b[0m\n\u001b[1;32m-> 3547\u001b[1;33m             \u001b[0mX\u001b[0m \u001b[1;33m=\u001b[0m \u001b[0md\u001b[0m\u001b[1;33m.\u001b[0m\u001b[0mdrop\u001b[0m\u001b[1;33m(\u001b[0m\u001b[0msupervised_target\u001b[0m\u001b[1;33m,\u001b[0m \u001b[0maxis\u001b[0m\u001b[1;33m=\u001b[0m\u001b[1;36m1\u001b[0m\u001b[1;33m)\u001b[0m\u001b[1;33m\u001b[0m\u001b[1;33m\u001b[0m\u001b[0m\n\u001b[0m\u001b[0;32m   3548\u001b[0m             \u001b[0my\u001b[0m \u001b[1;33m=\u001b[0m \u001b[0md\u001b[0m\u001b[1;33m[\u001b[0m\u001b[0msupervised_target\u001b[0m\u001b[1;33m]\u001b[0m\u001b[1;33m\u001b[0m\u001b[1;33m\u001b[0m\u001b[0m\n\u001b[0;32m   3549\u001b[0m \u001b[1;33m\u001b[0m\u001b[0m\n",
      "\u001b[1;32m~\\Anaconda3\\lib\\site-packages\\pandas\\util\\_decorators.py\u001b[0m in \u001b[0;36mwrapper\u001b[1;34m(*args, **kwargs)\u001b[0m\n\u001b[0;32m    309\u001b[0m                     \u001b[0mstacklevel\u001b[0m\u001b[1;33m=\u001b[0m\u001b[0mstacklevel\u001b[0m\u001b[1;33m,\u001b[0m\u001b[1;33m\u001b[0m\u001b[1;33m\u001b[0m\u001b[0m\n\u001b[0;32m    310\u001b[0m                 )\n\u001b[1;32m--> 311\u001b[1;33m             \u001b[1;32mreturn\u001b[0m \u001b[0mfunc\u001b[0m\u001b[1;33m(\u001b[0m\u001b[1;33m*\u001b[0m\u001b[0margs\u001b[0m\u001b[1;33m,\u001b[0m \u001b[1;33m**\u001b[0m\u001b[0mkwargs\u001b[0m\u001b[1;33m)\u001b[0m\u001b[1;33m\u001b[0m\u001b[1;33m\u001b[0m\u001b[0m\n\u001b[0m\u001b[0;32m    312\u001b[0m \u001b[1;33m\u001b[0m\u001b[0m\n\u001b[0;32m    313\u001b[0m         \u001b[1;32mreturn\u001b[0m \u001b[0mwrapper\u001b[0m\u001b[1;33m\u001b[0m\u001b[1;33m\u001b[0m\u001b[0m\n",
      "\u001b[1;32m~\\Anaconda3\\lib\\site-packages\\pandas\\core\\frame.py\u001b[0m in \u001b[0;36mdrop\u001b[1;34m(self, labels, axis, index, columns, level, inplace, errors)\u001b[0m\n\u001b[0;32m   4904\u001b[0m                 \u001b[0mweight\u001b[0m  \u001b[1;36m1.0\u001b[0m     \u001b[1;36m0.8\u001b[0m\u001b[1;33m\u001b[0m\u001b[1;33m\u001b[0m\u001b[0m\n\u001b[0;32m   4905\u001b[0m         \"\"\"\n\u001b[1;32m-> 4906\u001b[1;33m         return super().drop(\n\u001b[0m\u001b[0;32m   4907\u001b[0m             \u001b[0mlabels\u001b[0m\u001b[1;33m=\u001b[0m\u001b[0mlabels\u001b[0m\u001b[1;33m,\u001b[0m\u001b[1;33m\u001b[0m\u001b[1;33m\u001b[0m\u001b[0m\n\u001b[0;32m   4908\u001b[0m             \u001b[0maxis\u001b[0m\u001b[1;33m=\u001b[0m\u001b[0maxis\u001b[0m\u001b[1;33m,\u001b[0m\u001b[1;33m\u001b[0m\u001b[1;33m\u001b[0m\u001b[0m\n",
      "\u001b[1;32m~\\Anaconda3\\lib\\site-packages\\pandas\\core\\generic.py\u001b[0m in \u001b[0;36mdrop\u001b[1;34m(self, labels, axis, index, columns, level, inplace, errors)\u001b[0m\n\u001b[0;32m   4148\u001b[0m         \u001b[1;32mfor\u001b[0m \u001b[0maxis\u001b[0m\u001b[1;33m,\u001b[0m \u001b[0mlabels\u001b[0m \u001b[1;32min\u001b[0m \u001b[0maxes\u001b[0m\u001b[1;33m.\u001b[0m\u001b[0mitems\u001b[0m\u001b[1;33m(\u001b[0m\u001b[1;33m)\u001b[0m\u001b[1;33m:\u001b[0m\u001b[1;33m\u001b[0m\u001b[1;33m\u001b[0m\u001b[0m\n\u001b[0;32m   4149\u001b[0m             \u001b[1;32mif\u001b[0m \u001b[0mlabels\u001b[0m \u001b[1;32mis\u001b[0m \u001b[1;32mnot\u001b[0m \u001b[1;32mNone\u001b[0m\u001b[1;33m:\u001b[0m\u001b[1;33m\u001b[0m\u001b[1;33m\u001b[0m\u001b[0m\n\u001b[1;32m-> 4150\u001b[1;33m                 \u001b[0mobj\u001b[0m \u001b[1;33m=\u001b[0m \u001b[0mobj\u001b[0m\u001b[1;33m.\u001b[0m\u001b[0m_drop_axis\u001b[0m\u001b[1;33m(\u001b[0m\u001b[0mlabels\u001b[0m\u001b[1;33m,\u001b[0m \u001b[0maxis\u001b[0m\u001b[1;33m,\u001b[0m \u001b[0mlevel\u001b[0m\u001b[1;33m=\u001b[0m\u001b[0mlevel\u001b[0m\u001b[1;33m,\u001b[0m \u001b[0merrors\u001b[0m\u001b[1;33m=\u001b[0m\u001b[0merrors\u001b[0m\u001b[1;33m)\u001b[0m\u001b[1;33m\u001b[0m\u001b[1;33m\u001b[0m\u001b[0m\n\u001b[0m\u001b[0;32m   4151\u001b[0m \u001b[1;33m\u001b[0m\u001b[0m\n\u001b[0;32m   4152\u001b[0m         \u001b[1;32mif\u001b[0m \u001b[0minplace\u001b[0m\u001b[1;33m:\u001b[0m\u001b[1;33m\u001b[0m\u001b[1;33m\u001b[0m\u001b[0m\n",
      "\u001b[1;32m~\\Anaconda3\\lib\\site-packages\\pandas\\core\\generic.py\u001b[0m in \u001b[0;36m_drop_axis\u001b[1;34m(self, labels, axis, level, errors)\u001b[0m\n\u001b[0;32m   4183\u001b[0m                 \u001b[0mnew_axis\u001b[0m \u001b[1;33m=\u001b[0m \u001b[0maxis\u001b[0m\u001b[1;33m.\u001b[0m\u001b[0mdrop\u001b[0m\u001b[1;33m(\u001b[0m\u001b[0mlabels\u001b[0m\u001b[1;33m,\u001b[0m \u001b[0mlevel\u001b[0m\u001b[1;33m=\u001b[0m\u001b[0mlevel\u001b[0m\u001b[1;33m,\u001b[0m \u001b[0merrors\u001b[0m\u001b[1;33m=\u001b[0m\u001b[0merrors\u001b[0m\u001b[1;33m)\u001b[0m\u001b[1;33m\u001b[0m\u001b[1;33m\u001b[0m\u001b[0m\n\u001b[0;32m   4184\u001b[0m             \u001b[1;32melse\u001b[0m\u001b[1;33m:\u001b[0m\u001b[1;33m\u001b[0m\u001b[1;33m\u001b[0m\u001b[0m\n\u001b[1;32m-> 4185\u001b[1;33m                 \u001b[0mnew_axis\u001b[0m \u001b[1;33m=\u001b[0m \u001b[0maxis\u001b[0m\u001b[1;33m.\u001b[0m\u001b[0mdrop\u001b[0m\u001b[1;33m(\u001b[0m\u001b[0mlabels\u001b[0m\u001b[1;33m,\u001b[0m \u001b[0merrors\u001b[0m\u001b[1;33m=\u001b[0m\u001b[0merrors\u001b[0m\u001b[1;33m)\u001b[0m\u001b[1;33m\u001b[0m\u001b[1;33m\u001b[0m\u001b[0m\n\u001b[0m\u001b[0;32m   4186\u001b[0m             \u001b[0mresult\u001b[0m \u001b[1;33m=\u001b[0m \u001b[0mself\u001b[0m\u001b[1;33m.\u001b[0m\u001b[0mreindex\u001b[0m\u001b[1;33m(\u001b[0m\u001b[1;33m**\u001b[0m\u001b[1;33m{\u001b[0m\u001b[0maxis_name\u001b[0m\u001b[1;33m:\u001b[0m \u001b[0mnew_axis\u001b[0m\u001b[1;33m}\u001b[0m\u001b[1;33m)\u001b[0m\u001b[1;33m\u001b[0m\u001b[1;33m\u001b[0m\u001b[0m\n\u001b[0;32m   4187\u001b[0m \u001b[1;33m\u001b[0m\u001b[0m\n",
      "\u001b[1;32m~\\Anaconda3\\lib\\site-packages\\pandas\\core\\indexes\\base.py\u001b[0m in \u001b[0;36mdrop\u001b[1;34m(self, labels, errors)\u001b[0m\n\u001b[0;32m   6015\u001b[0m         \u001b[1;32mif\u001b[0m \u001b[0mmask\u001b[0m\u001b[1;33m.\u001b[0m\u001b[0many\u001b[0m\u001b[1;33m(\u001b[0m\u001b[1;33m)\u001b[0m\u001b[1;33m:\u001b[0m\u001b[1;33m\u001b[0m\u001b[1;33m\u001b[0m\u001b[0m\n\u001b[0;32m   6016\u001b[0m             \u001b[1;32mif\u001b[0m \u001b[0merrors\u001b[0m \u001b[1;33m!=\u001b[0m \u001b[1;34m\"ignore\"\u001b[0m\u001b[1;33m:\u001b[0m\u001b[1;33m\u001b[0m\u001b[1;33m\u001b[0m\u001b[0m\n\u001b[1;32m-> 6017\u001b[1;33m                 \u001b[1;32mraise\u001b[0m \u001b[0mKeyError\u001b[0m\u001b[1;33m(\u001b[0m\u001b[1;34mf\"{labels[mask]} not found in axis\"\u001b[0m\u001b[1;33m)\u001b[0m\u001b[1;33m\u001b[0m\u001b[1;33m\u001b[0m\u001b[0m\n\u001b[0m\u001b[0;32m   6018\u001b[0m             \u001b[0mindexer\u001b[0m \u001b[1;33m=\u001b[0m \u001b[0mindexer\u001b[0m\u001b[1;33m[\u001b[0m\u001b[1;33m~\u001b[0m\u001b[0mmask\u001b[0m\u001b[1;33m]\u001b[0m\u001b[1;33m\u001b[0m\u001b[1;33m\u001b[0m\u001b[0m\n\u001b[0;32m   6019\u001b[0m         \u001b[1;32mreturn\u001b[0m \u001b[0mself\u001b[0m\u001b[1;33m.\u001b[0m\u001b[0mdelete\u001b[0m\u001b[1;33m(\u001b[0m\u001b[0mindexer\u001b[0m\u001b[1;33m)\u001b[0m\u001b[1;33m\u001b[0m\u001b[1;33m\u001b[0m\u001b[0m\n",
      "\u001b[1;31mKeyError\u001b[0m: \"['Siglas'] not found in axis\""
     ]
    }
   ],
   "source": [
    "tuned_lda = tune_model(model = 'lda', supervised_target = 'Siglas',verbose=True)"
   ]
  },
  {
   "cell_type": "code",
   "execution_count": 9,
   "id": "374938cb-51dc-40c2-9b22-2334ab44089b",
   "metadata": {},
   "outputs": [
    {
     "data": {
      "text/plain": [
       "True"
      ]
     },
     "execution_count": 9,
     "metadata": {},
     "output_type": "execute_result"
    }
   ],
   "source": [
    "fullstring = data[\"Operación\"][2]\n",
    "substring = \"SETTING TOOL\"\n",
    "\n",
    "substring in fullstring"
   ]
  },
  {
   "cell_type": "code",
   "execution_count": 10,
   "id": "b890063c-c884-40e7-9c6b-35f7e45f63f3",
   "metadata": {},
   "outputs": [
    {
     "data": {
      "text/html": [
       "<div>\n",
       "<style scoped>\n",
       "    .dataframe tbody tr th:only-of-type {\n",
       "        vertical-align: middle;\n",
       "    }\n",
       "\n",
       "    .dataframe tbody tr th {\n",
       "        vertical-align: top;\n",
       "    }\n",
       "\n",
       "    .dataframe thead th {\n",
       "        text-align: right;\n",
       "    }\n",
       "</style>\n",
       "<table border=\"1\" class=\"dataframe\">\n",
       "  <thead>\n",
       "    <tr style=\"text-align: right;\">\n",
       "      <th></th>\n",
       "      <th>Siglas</th>\n",
       "      <th>Nombre</th>\n",
       "      <th>Desde</th>\n",
       "      <th>Hasta</th>\n",
       "      <th>MD From (ft)</th>\n",
       "      <th>MD to (ft)</th>\n",
       "      <th>Codigo</th>\n",
       "      <th>Subcodigo</th>\n",
       "      <th>Operación</th>\n",
       "    </tr>\n",
       "  </thead>\n",
       "  <tbody>\n",
       "    <tr>\n",
       "      <th>0</th>\n",
       "      <td>ODR</td>\n",
       "      <td>MOR BL 04</td>\n",
       "      <td>2011-05-25 08:00:00</td>\n",
       "      <td>2011-05-25 11:00:00</td>\n",
       "      <td>2773.0</td>\n",
       "      <td>2773.0</td>\n",
       "      <td>1300</td>\n",
       "      <td>1304.0</td>\n",
       "      <td>HANG TBG ON 7 1/16\" CASING HEAD. DISCONNECTED ...</td>\n",
       "    </tr>\n",
       "    <tr>\n",
       "      <th>1</th>\n",
       "      <td>ODR</td>\n",
       "      <td>MOR BL 04</td>\n",
       "      <td>2011-05-25 02:30:00</td>\n",
       "      <td>2011-05-25 08:00:00</td>\n",
       "      <td>2773.0</td>\n",
       "      <td>2773.0</td>\n",
       "      <td>1100</td>\n",
       "      <td>1117.0</td>\n",
       "      <td>RIH 2 7 /8\" TUBING EUE  (31.62 FT) + NIPLESILL...</td>\n",
       "    </tr>\n",
       "    <tr>\n",
       "      <th>2</th>\n",
       "      <td>ODR</td>\n",
       "      <td>MOR BL 04</td>\n",
       "      <td>2011-05-25 00:00:00</td>\n",
       "      <td>2011-05-25 02:30:00</td>\n",
       "      <td>2773.0</td>\n",
       "      <td>2773.0</td>\n",
       "      <td>1100</td>\n",
       "      <td>1116.0</td>\n",
       "      <td>CONTD. POOH AND L/D 3 1/2'' DP + SETTING TOOL ...</td>\n",
       "    </tr>\n",
       "    <tr>\n",
       "      <th>3</th>\n",
       "      <td>ODR</td>\n",
       "      <td>MOR BL 04</td>\n",
       "      <td>2011-05-24 00:00:00</td>\n",
       "      <td>2011-05-24 03:30:00</td>\n",
       "      <td>2773.0</td>\n",
       "      <td>2773.0</td>\n",
       "      <td>1500</td>\n",
       "      <td>1503.0</td>\n",
       "      <td>GRAVEL PACKING 5½\" LINER W/ 10-16 MESH GRAVEL ...</td>\n",
       "    </tr>\n",
       "    <tr>\n",
       "      <th>4</th>\n",
       "      <td>ODR</td>\n",
       "      <td>MOR BL 04</td>\n",
       "      <td>2011-05-24 21:30:00</td>\n",
       "      <td>2011-05-24 22:30:00</td>\n",
       "      <td>2773.0</td>\n",
       "      <td>2773.0</td>\n",
       "      <td>1500</td>\n",
       "      <td>1503.0</td>\n",
       "      <td>CONDITIONED BRINE TO 9.5 PPG AND CIRCULATED AN...</td>\n",
       "    </tr>\n",
       "    <tr>\n",
       "      <th>...</th>\n",
       "      <td>...</td>\n",
       "      <td>...</td>\n",
       "      <td>...</td>\n",
       "      <td>...</td>\n",
       "      <td>...</td>\n",
       "      <td>...</td>\n",
       "      <td>...</td>\n",
       "      <td>...</td>\n",
       "      <td>...</td>\n",
       "    </tr>\n",
       "    <tr>\n",
       "      <th>25915</th>\n",
       "      <td>ODR</td>\n",
       "      <td>MOR D 02</td>\n",
       "      <td>2009-08-22 11:00:00</td>\n",
       "      <td>2009-08-22 13:00:00</td>\n",
       "      <td>2907.0</td>\n",
       "      <td>2907.0</td>\n",
       "      <td>2100</td>\n",
       "      <td>2104.0</td>\n",
       "      <td>PERFORM PRESURE LINE  TEST W 4000 PSI.  PUMPED...</td>\n",
       "    </tr>\n",
       "    <tr>\n",
       "      <th>25916</th>\n",
       "      <td>ODR</td>\n",
       "      <td>MOR D 02</td>\n",
       "      <td>2009-08-22 17:30:00</td>\n",
       "      <td>2009-08-22 19:00:00</td>\n",
       "      <td>2907.0</td>\n",
       "      <td>2907.0</td>\n",
       "      <td>1500</td>\n",
       "      <td>1503.0</td>\n",
       "      <td>CONDITIONED BRINE TO PERFORM CEMENT JOB</td>\n",
       "    </tr>\n",
       "    <tr>\n",
       "      <th>25917</th>\n",
       "      <td>ODR</td>\n",
       "      <td>MOR D 02</td>\n",
       "      <td>2009-08-22 10:00:00</td>\n",
       "      <td>2009-08-22 10:30:00</td>\n",
       "      <td>2907.0</td>\n",
       "      <td>2907.0</td>\n",
       "      <td>1700</td>\n",
       "      <td>1701.0</td>\n",
       "      <td>HELD PREOPERATIONAL METTING TO SET PACKER STAG...</td>\n",
       "    </tr>\n",
       "    <tr>\n",
       "      <th>25918</th>\n",
       "      <td>ODR</td>\n",
       "      <td>MOR D 02</td>\n",
       "      <td>2009-08-23 00:00:00</td>\n",
       "      <td>2009-08-23 03:30:00</td>\n",
       "      <td>2907.0</td>\n",
       "      <td>2907.0</td>\n",
       "      <td>2100</td>\n",
       "      <td>2104.0</td>\n",
       "      <td>HELD PREOPERATIONAL MEETING TO 7\" CASING CEMEN...</td>\n",
       "    </tr>\n",
       "    <tr>\n",
       "      <th>25919</th>\n",
       "      <td>ODR</td>\n",
       "      <td>MOR D 02</td>\n",
       "      <td>2009-08-23 03:30:00</td>\n",
       "      <td>2009-08-24 00:00:00</td>\n",
       "      <td>2907.0</td>\n",
       "      <td>2907.0</td>\n",
       "      <td>2100</td>\n",
       "      <td>2106.0</td>\n",
       "      <td>7\"CSG  CEMENT WOC</td>\n",
       "    </tr>\n",
       "  </tbody>\n",
       "</table>\n",
       "<p>25920 rows × 9 columns</p>\n",
       "</div>"
      ],
      "text/plain": [
       "      Siglas     Nombre               Desde               Hasta  MD From (ft)  \\\n",
       "0        ODR  MOR BL 04 2011-05-25 08:00:00 2011-05-25 11:00:00        2773.0   \n",
       "1        ODR  MOR BL 04 2011-05-25 02:30:00 2011-05-25 08:00:00        2773.0   \n",
       "2        ODR  MOR BL 04 2011-05-25 00:00:00 2011-05-25 02:30:00        2773.0   \n",
       "3        ODR  MOR BL 04 2011-05-24 00:00:00 2011-05-24 03:30:00        2773.0   \n",
       "4        ODR  MOR BL 04 2011-05-24 21:30:00 2011-05-24 22:30:00        2773.0   \n",
       "...      ...        ...                 ...                 ...           ...   \n",
       "25915    ODR   MOR D 02 2009-08-22 11:00:00 2009-08-22 13:00:00        2907.0   \n",
       "25916    ODR   MOR D 02 2009-08-22 17:30:00 2009-08-22 19:00:00        2907.0   \n",
       "25917    ODR   MOR D 02 2009-08-22 10:00:00 2009-08-22 10:30:00        2907.0   \n",
       "25918    ODR   MOR D 02 2009-08-23 00:00:00 2009-08-23 03:30:00        2907.0   \n",
       "25919    ODR   MOR D 02 2009-08-23 03:30:00 2009-08-24 00:00:00        2907.0   \n",
       "\n",
       "       MD to (ft)  Codigo  Subcodigo  \\\n",
       "0          2773.0    1300     1304.0   \n",
       "1          2773.0    1100     1117.0   \n",
       "2          2773.0    1100     1116.0   \n",
       "3          2773.0    1500     1503.0   \n",
       "4          2773.0    1500     1503.0   \n",
       "...           ...     ...        ...   \n",
       "25915      2907.0    2100     2104.0   \n",
       "25916      2907.0    1500     1503.0   \n",
       "25917      2907.0    1700     1701.0   \n",
       "25918      2907.0    2100     2104.0   \n",
       "25919      2907.0    2100     2106.0   \n",
       "\n",
       "                                               Operación  \n",
       "0      HANG TBG ON 7 1/16\" CASING HEAD. DISCONNECTED ...  \n",
       "1      RIH 2 7 /8\" TUBING EUE  (31.62 FT) + NIPLESILL...  \n",
       "2      CONTD. POOH AND L/D 3 1/2'' DP + SETTING TOOL ...  \n",
       "3      GRAVEL PACKING 5½\" LINER W/ 10-16 MESH GRAVEL ...  \n",
       "4      CONDITIONED BRINE TO 9.5 PPG AND CIRCULATED AN...  \n",
       "...                                                  ...  \n",
       "25915  PERFORM PRESURE LINE  TEST W 4000 PSI.  PUMPED...  \n",
       "25916            CONDITIONED BRINE TO PERFORM CEMENT JOB  \n",
       "25917  HELD PREOPERATIONAL METTING TO SET PACKER STAG...  \n",
       "25918  HELD PREOPERATIONAL MEETING TO 7\" CASING CEMEN...  \n",
       "25919                                  7\"CSG  CEMENT WOC  \n",
       "\n",
       "[25920 rows x 9 columns]"
      ]
     },
     "execution_count": 10,
     "metadata": {},
     "output_type": "execute_result"
    }
   ],
   "source": [
    "data"
   ]
  },
  {
   "cell_type": "code",
   "execution_count": 11,
   "id": "39719197-f437-40b4-87de-b82755e3a07e",
   "metadata": {},
   "outputs": [
    {
     "data": {
      "text/plain": [
       "Siglas                                                        ODR\n",
       "Nombre                                                  MOR BL 04\n",
       "Desde                                         2011-05-25 08:00:00\n",
       "Hasta                                         2011-05-25 11:00:00\n",
       "MD From (ft)                                               2773.0\n",
       "MD to (ft)                                                 2773.0\n",
       "Codigo                                                       1300\n",
       "Subcodigo                                                  1304.0\n",
       "Operación       HANG TBG ON 7 1/16\" CASING HEAD. DISCONNECTED ...\n",
       "Name: 0, dtype: object"
      ]
     },
     "execution_count": 11,
     "metadata": {},
     "output_type": "execute_result"
    }
   ],
   "source": [
    "data.iloc[0]"
   ]
  },
  {
   "cell_type": "code",
   "execution_count": 12,
   "id": "efafc68f-8d93-430c-8911-0c44b817c89f",
   "metadata": {},
   "outputs": [],
   "source": [
    "def encuentra_key(base,pozo,key):\n",
    "    '''\n",
    "    Funcion que dada una base de datos, y una clave, encuentra los indices de la fila donde se encuentra el key\n",
    "    ----------------------------------------------------------------------------------------------------------\n",
    "    \n",
    "    - base: Dataframe con una columna de texto, lamada Operación\n",
    "    - key: Cadena de caracteres que se vá a buscar en cada fila de la columna Operación  \n",
    "    \n",
    "    '''\n",
    "    base = base[base[\"Nombre\"]==pozo]\n",
    "    \n",
    "    indice=[]\n",
    "\n",
    "    for fila in range(0,len(base)):\n",
    "\n",
    "        fullstring = data[\"Operación\"][fila]\n",
    "        substring = key\n",
    "\n",
    "        if substring in fullstring:\n",
    "            indice.append(fila)\n",
    "            \n",
    "    ID = indice[-1]\n",
    "    \n",
    "    base.iloc[ID]\n",
    "            \n",
    "    return pd.DataFrame(base.iloc[ID+1]).T\n",
    "    #return base"
   ]
  },
  {
   "cell_type": "code",
   "execution_count": 13,
   "id": "0fcae3a7-d8c7-4f73-9d6a-9a05d8017902",
   "metadata": {},
   "outputs": [
    {
     "data": {
      "text/html": [
       "<div>\n",
       "<style scoped>\n",
       "    .dataframe tbody tr th:only-of-type {\n",
       "        vertical-align: middle;\n",
       "    }\n",
       "\n",
       "    .dataframe tbody tr th {\n",
       "        vertical-align: top;\n",
       "    }\n",
       "\n",
       "    .dataframe thead th {\n",
       "        text-align: right;\n",
       "    }\n",
       "</style>\n",
       "<table border=\"1\" class=\"dataframe\">\n",
       "  <thead>\n",
       "    <tr style=\"text-align: right;\">\n",
       "      <th></th>\n",
       "      <th>Siglas</th>\n",
       "      <th>Nombre</th>\n",
       "      <th>Desde</th>\n",
       "      <th>Hasta</th>\n",
       "      <th>MD From (ft)</th>\n",
       "      <th>MD to (ft)</th>\n",
       "      <th>Codigo</th>\n",
       "      <th>Subcodigo</th>\n",
       "      <th>Operación</th>\n",
       "    </tr>\n",
       "  </thead>\n",
       "  <tbody>\n",
       "    <tr>\n",
       "      <th>14</th>\n",
       "      <td>ODR</td>\n",
       "      <td>MOR BL 04</td>\n",
       "      <td>2011-05-24 09:00:00</td>\n",
       "      <td>2011-05-24 09:30:00</td>\n",
       "      <td>2773.0</td>\n",
       "      <td>2773.0</td>\n",
       "      <td>1200</td>\n",
       "      <td>1207.0</td>\n",
       "      <td>N/D GRAVEL POT FLOW LINES.  RELEASED GRAVEL PA...</td>\n",
       "    </tr>\n",
       "  </tbody>\n",
       "</table>\n",
       "</div>"
      ],
      "text/plain": [
       "   Siglas     Nombre               Desde               Hasta MD From (ft)  \\\n",
       "14    ODR  MOR BL 04 2011-05-24 09:00:00 2011-05-24 09:30:00       2773.0   \n",
       "\n",
       "   MD to (ft) Codigo Subcodigo  \\\n",
       "14     2773.0   1200    1207.0   \n",
       "\n",
       "                                            Operación  \n",
       "14  N/D GRAVEL POT FLOW LINES.  RELEASED GRAVEL PA...  "
      ]
     },
     "execution_count": 13,
     "metadata": {},
     "output_type": "execute_result"
    }
   ],
   "source": [
    "encuentra_key(data,\"MOR BL 04\",\"SETTING TOOL\")"
   ]
  },
  {
   "cell_type": "code",
   "execution_count": 14,
   "id": "29bdd6cb-32f0-4fa7-8bf1-b54122212dc3",
   "metadata": {},
   "outputs": [
    {
     "data": {
      "text/html": [
       "<div>\n",
       "<style scoped>\n",
       "    .dataframe tbody tr th:only-of-type {\n",
       "        vertical-align: middle;\n",
       "    }\n",
       "\n",
       "    .dataframe tbody tr th {\n",
       "        vertical-align: top;\n",
       "    }\n",
       "\n",
       "    .dataframe thead th {\n",
       "        text-align: right;\n",
       "    }\n",
       "</style>\n",
       "<table border=\"1\" class=\"dataframe\">\n",
       "  <thead>\n",
       "    <tr style=\"text-align: right;\">\n",
       "      <th></th>\n",
       "      <th>Siglas</th>\n",
       "      <th>Nombre</th>\n",
       "      <th>Desde</th>\n",
       "      <th>Hasta</th>\n",
       "      <th>MD From (ft)</th>\n",
       "      <th>MD to (ft)</th>\n",
       "      <th>Codigo</th>\n",
       "      <th>Subcodigo</th>\n",
       "      <th>Operación</th>\n",
       "    </tr>\n",
       "  </thead>\n",
       "  <tbody>\n",
       "    <tr>\n",
       "      <th>0</th>\n",
       "      <td>ODR</td>\n",
       "      <td>MOR BL 04</td>\n",
       "      <td>2011-05-25 08:00:00</td>\n",
       "      <td>2011-05-25 11:00:00</td>\n",
       "      <td>2773.0</td>\n",
       "      <td>2773.0</td>\n",
       "      <td>1300</td>\n",
       "      <td>1304.0</td>\n",
       "      <td>HANG TBG ON 7 1/16\" CASING HEAD. DISCONNECTED ...</td>\n",
       "    </tr>\n",
       "    <tr>\n",
       "      <th>1</th>\n",
       "      <td>ODR</td>\n",
       "      <td>MOR BL 04</td>\n",
       "      <td>2011-05-25 02:30:00</td>\n",
       "      <td>2011-05-25 08:00:00</td>\n",
       "      <td>2773.0</td>\n",
       "      <td>2773.0</td>\n",
       "      <td>1100</td>\n",
       "      <td>1117.0</td>\n",
       "      <td>RIH 2 7 /8\" TUBING EUE  (31.62 FT) + NIPLESILL...</td>\n",
       "    </tr>\n",
       "    <tr>\n",
       "      <th>2</th>\n",
       "      <td>ODR</td>\n",
       "      <td>MOR BL 04</td>\n",
       "      <td>2011-05-25 00:00:00</td>\n",
       "      <td>2011-05-25 02:30:00</td>\n",
       "      <td>2773.0</td>\n",
       "      <td>2773.0</td>\n",
       "      <td>1100</td>\n",
       "      <td>1116.0</td>\n",
       "      <td>CONTD. POOH AND L/D 3 1/2'' DP + SETTING TOOL ...</td>\n",
       "    </tr>\n",
       "    <tr>\n",
       "      <th>3</th>\n",
       "      <td>ODR</td>\n",
       "      <td>MOR BL 04</td>\n",
       "      <td>2011-05-24 00:00:00</td>\n",
       "      <td>2011-05-24 03:30:00</td>\n",
       "      <td>2773.0</td>\n",
       "      <td>2773.0</td>\n",
       "      <td>1500</td>\n",
       "      <td>1503.0</td>\n",
       "      <td>GRAVEL PACKING 5½\" LINER W/ 10-16 MESH GRAVEL ...</td>\n",
       "    </tr>\n",
       "    <tr>\n",
       "      <th>4</th>\n",
       "      <td>ODR</td>\n",
       "      <td>MOR BL 04</td>\n",
       "      <td>2011-05-24 21:30:00</td>\n",
       "      <td>2011-05-24 22:30:00</td>\n",
       "      <td>2773.0</td>\n",
       "      <td>2773.0</td>\n",
       "      <td>1500</td>\n",
       "      <td>1503.0</td>\n",
       "      <td>CONDITIONED BRINE TO 9.5 PPG AND CIRCULATED AN...</td>\n",
       "    </tr>\n",
       "    <tr>\n",
       "      <th>...</th>\n",
       "      <td>...</td>\n",
       "      <td>...</td>\n",
       "      <td>...</td>\n",
       "      <td>...</td>\n",
       "      <td>...</td>\n",
       "      <td>...</td>\n",
       "      <td>...</td>\n",
       "      <td>...</td>\n",
       "      <td>...</td>\n",
       "    </tr>\n",
       "    <tr>\n",
       "      <th>25915</th>\n",
       "      <td>ODR</td>\n",
       "      <td>MOR D 02</td>\n",
       "      <td>2009-08-22 11:00:00</td>\n",
       "      <td>2009-08-22 13:00:00</td>\n",
       "      <td>2907.0</td>\n",
       "      <td>2907.0</td>\n",
       "      <td>2100</td>\n",
       "      <td>2104.0</td>\n",
       "      <td>PERFORM PRESURE LINE  TEST W 4000 PSI.  PUMPED...</td>\n",
       "    </tr>\n",
       "    <tr>\n",
       "      <th>25916</th>\n",
       "      <td>ODR</td>\n",
       "      <td>MOR D 02</td>\n",
       "      <td>2009-08-22 17:30:00</td>\n",
       "      <td>2009-08-22 19:00:00</td>\n",
       "      <td>2907.0</td>\n",
       "      <td>2907.0</td>\n",
       "      <td>1500</td>\n",
       "      <td>1503.0</td>\n",
       "      <td>CONDITIONED BRINE TO PERFORM CEMENT JOB</td>\n",
       "    </tr>\n",
       "    <tr>\n",
       "      <th>25917</th>\n",
       "      <td>ODR</td>\n",
       "      <td>MOR D 02</td>\n",
       "      <td>2009-08-22 10:00:00</td>\n",
       "      <td>2009-08-22 10:30:00</td>\n",
       "      <td>2907.0</td>\n",
       "      <td>2907.0</td>\n",
       "      <td>1700</td>\n",
       "      <td>1701.0</td>\n",
       "      <td>HELD PREOPERATIONAL METTING TO SET PACKER STAG...</td>\n",
       "    </tr>\n",
       "    <tr>\n",
       "      <th>25918</th>\n",
       "      <td>ODR</td>\n",
       "      <td>MOR D 02</td>\n",
       "      <td>2009-08-23 00:00:00</td>\n",
       "      <td>2009-08-23 03:30:00</td>\n",
       "      <td>2907.0</td>\n",
       "      <td>2907.0</td>\n",
       "      <td>2100</td>\n",
       "      <td>2104.0</td>\n",
       "      <td>HELD PREOPERATIONAL MEETING TO 7\" CASING CEMEN...</td>\n",
       "    </tr>\n",
       "    <tr>\n",
       "      <th>25919</th>\n",
       "      <td>ODR</td>\n",
       "      <td>MOR D 02</td>\n",
       "      <td>2009-08-23 03:30:00</td>\n",
       "      <td>2009-08-24 00:00:00</td>\n",
       "      <td>2907.0</td>\n",
       "      <td>2907.0</td>\n",
       "      <td>2100</td>\n",
       "      <td>2106.0</td>\n",
       "      <td>7\"CSG  CEMENT WOC</td>\n",
       "    </tr>\n",
       "  </tbody>\n",
       "</table>\n",
       "<p>25920 rows × 9 columns</p>\n",
       "</div>"
      ],
      "text/plain": [
       "      Siglas     Nombre               Desde               Hasta  MD From (ft)  \\\n",
       "0        ODR  MOR BL 04 2011-05-25 08:00:00 2011-05-25 11:00:00        2773.0   \n",
       "1        ODR  MOR BL 04 2011-05-25 02:30:00 2011-05-25 08:00:00        2773.0   \n",
       "2        ODR  MOR BL 04 2011-05-25 00:00:00 2011-05-25 02:30:00        2773.0   \n",
       "3        ODR  MOR BL 04 2011-05-24 00:00:00 2011-05-24 03:30:00        2773.0   \n",
       "4        ODR  MOR BL 04 2011-05-24 21:30:00 2011-05-24 22:30:00        2773.0   \n",
       "...      ...        ...                 ...                 ...           ...   \n",
       "25915    ODR   MOR D 02 2009-08-22 11:00:00 2009-08-22 13:00:00        2907.0   \n",
       "25916    ODR   MOR D 02 2009-08-22 17:30:00 2009-08-22 19:00:00        2907.0   \n",
       "25917    ODR   MOR D 02 2009-08-22 10:00:00 2009-08-22 10:30:00        2907.0   \n",
       "25918    ODR   MOR D 02 2009-08-23 00:00:00 2009-08-23 03:30:00        2907.0   \n",
       "25919    ODR   MOR D 02 2009-08-23 03:30:00 2009-08-24 00:00:00        2907.0   \n",
       "\n",
       "       MD to (ft)  Codigo  Subcodigo  \\\n",
       "0          2773.0    1300     1304.0   \n",
       "1          2773.0    1100     1117.0   \n",
       "2          2773.0    1100     1116.0   \n",
       "3          2773.0    1500     1503.0   \n",
       "4          2773.0    1500     1503.0   \n",
       "...           ...     ...        ...   \n",
       "25915      2907.0    2100     2104.0   \n",
       "25916      2907.0    1500     1503.0   \n",
       "25917      2907.0    1700     1701.0   \n",
       "25918      2907.0    2100     2104.0   \n",
       "25919      2907.0    2100     2106.0   \n",
       "\n",
       "                                               Operación  \n",
       "0      HANG TBG ON 7 1/16\" CASING HEAD. DISCONNECTED ...  \n",
       "1      RIH 2 7 /8\" TUBING EUE  (31.62 FT) + NIPLESILL...  \n",
       "2      CONTD. POOH AND L/D 3 1/2'' DP + SETTING TOOL ...  \n",
       "3      GRAVEL PACKING 5½\" LINER W/ 10-16 MESH GRAVEL ...  \n",
       "4      CONDITIONED BRINE TO 9.5 PPG AND CIRCULATED AN...  \n",
       "...                                                  ...  \n",
       "25915  PERFORM PRESURE LINE  TEST W 4000 PSI.  PUMPED...  \n",
       "25916            CONDITIONED BRINE TO PERFORM CEMENT JOB  \n",
       "25917  HELD PREOPERATIONAL METTING TO SET PACKER STAG...  \n",
       "25918  HELD PREOPERATIONAL MEETING TO 7\" CASING CEMEN...  \n",
       "25919                                  7\"CSG  CEMENT WOC  \n",
       "\n",
       "[25920 rows x 9 columns]"
      ]
     },
     "execution_count": 14,
     "metadata": {},
     "output_type": "execute_result"
    }
   ],
   "source": [
    "data"
   ]
  },
  {
   "cell_type": "code",
   "execution_count": 15,
   "id": "bcb9d1c9-cc0b-4c0c-8e16-cb3515e7f28c",
   "metadata": {},
   "outputs": [
    {
     "data": {
      "text/html": [
       "<div>\n",
       "<style scoped>\n",
       "    .dataframe tbody tr th:only-of-type {\n",
       "        vertical-align: middle;\n",
       "    }\n",
       "\n",
       "    .dataframe tbody tr th {\n",
       "        vertical-align: top;\n",
       "    }\n",
       "\n",
       "    .dataframe thead th {\n",
       "        text-align: right;\n",
       "    }\n",
       "</style>\n",
       "<table border=\"1\" class=\"dataframe\">\n",
       "  <thead>\n",
       "    <tr style=\"text-align: right;\">\n",
       "      <th></th>\n",
       "      <th>Siglas</th>\n",
       "      <th>Nombre</th>\n",
       "      <th>Desde</th>\n",
       "      <th>Hasta</th>\n",
       "      <th>MD From (ft)</th>\n",
       "      <th>MD to (ft)</th>\n",
       "      <th>Codigo</th>\n",
       "      <th>Subcodigo</th>\n",
       "      <th>Operación</th>\n",
       "    </tr>\n",
       "  </thead>\n",
       "  <tbody>\n",
       "    <tr>\n",
       "      <th>111</th>\n",
       "      <td>OCM</td>\n",
       "      <td>MOR BL 04</td>\n",
       "      <td>2011-05-25 08:00:00</td>\n",
       "      <td>2011-05-25 11:00:00</td>\n",
       "      <td>2773.0</td>\n",
       "      <td>2773.0</td>\n",
       "      <td>3000</td>\n",
       "      <td>3005.0</td>\n",
       "      <td>HANG TBG ON 7 1/16\" CASING HEAD. DISCONNECTED ...</td>\n",
       "    </tr>\n",
       "  </tbody>\n",
       "</table>\n",
       "</div>"
      ],
      "text/plain": [
       "    Siglas     Nombre               Desde               Hasta MD From (ft)  \\\n",
       "111    OCM  MOR BL 04 2011-05-25 08:00:00 2011-05-25 11:00:00       2773.0   \n",
       "\n",
       "    MD to (ft) Codigo Subcodigo  \\\n",
       "111     2773.0   3000    3005.0   \n",
       "\n",
       "                                             Operación  \n",
       "111  HANG TBG ON 7 1/16\" CASING HEAD. DISCONNECTED ...  "
      ]
     },
     "execution_count": 15,
     "metadata": {},
     "output_type": "execute_result"
    }
   ],
   "source": [
    "encuentra_key(data,\"MOR BL 04\",\"TUBING\")"
   ]
  },
  {
   "cell_type": "code",
   "execution_count": null,
   "id": "3d59ebe8-4128-4f95-88fa-271cbcb18429",
   "metadata": {},
   "outputs": [],
   "source": []
  },
  {
   "cell_type": "code",
   "execution_count": null,
   "id": "615f9ef4-0830-47d1-aef8-74e74a86403f",
   "metadata": {},
   "outputs": [],
   "source": []
  },
  {
   "cell_type": "markdown",
   "id": "0f7eef9a",
   "metadata": {},
   "source": [
    "## Assign a Model"
   ]
  },
  {
   "cell_type": "code",
   "execution_count": null,
   "id": "0cb92538",
   "metadata": {},
   "outputs": [],
   "source": [
    "lda_results = assign_model(lda)\n",
    "lda_results.head()"
   ]
  },
  {
   "cell_type": "code",
   "execution_count": null,
   "id": "3b124e7f-d4c5-47cf-bca5-7a0ad468ad4a",
   "metadata": {},
   "outputs": [],
   "source": []
  },
  {
   "cell_type": "code",
   "execution_count": null,
   "id": "09591ca8-41f9-44fd-98eb-ccb13250f31c",
   "metadata": {},
   "outputs": [],
   "source": []
  },
  {
   "cell_type": "code",
   "execution_count": null,
   "id": "95938fb1-0a14-418a-a371-c883f2299ba3",
   "metadata": {},
   "outputs": [],
   "source": []
  },
  {
   "cell_type": "code",
   "execution_count": null,
   "id": "7d354e3b",
   "metadata": {},
   "outputs": [],
   "source": [
    "plot_model(lda, plot = 'topic_distribution')"
   ]
  },
  {
   "cell_type": "code",
   "execution_count": null,
   "id": "bacdb9a0",
   "metadata": {},
   "outputs": [],
   "source": []
  },
  {
   "cell_type": "code",
   "execution_count": null,
   "id": "1f24014c",
   "metadata": {},
   "outputs": [],
   "source": []
  }
 ],
 "metadata": {
  "kernelspec": {
   "display_name": "Python 3 (ipykernel)",
   "language": "python",
   "name": "python3"
  },
  "language_info": {
   "codemirror_mode": {
    "name": "ipython",
    "version": 3
   },
   "file_extension": ".py",
   "mimetype": "text/x-python",
   "name": "python",
   "nbconvert_exporter": "python",
   "pygments_lexer": "ipython3",
   "version": "3.9.7"
  }
 },
 "nbformat": 4,
 "nbformat_minor": 5
}
