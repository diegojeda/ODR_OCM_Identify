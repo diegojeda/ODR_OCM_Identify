{
 "cells": [
  {
   "cell_type": "code",
   "execution_count": 322,
   "id": "b9d55995",
   "metadata": {},
   "outputs": [],
   "source": [
    "import pandas as pd\n",
    "import numpy as np\n",
    "from numpy import loadtxt\n",
    "from pylab import *\n",
    "import seaborn as sns\n",
    "from IPython.core.interactiveshell import InteractiveShell  \n",
    "InteractiveShell.ast_node_interactivity = \"all\"\n",
    "from IPython.display import display, HTML\n",
    "from scipy import stats\n",
    "import matplotlib.pyplot as plt\n",
    "import os\n",
    "import missingno as msno;"
   ]
  },
  {
   "cell_type": "code",
   "execution_count": 323,
   "id": "0a3336e0",
   "metadata": {},
   "outputs": [],
   "source": [
    "path='Data.xlsx'\n",
    "data=pd.read_excel(path)"
   ]
  },
  {
   "cell_type": "markdown",
   "id": "910e1dbf",
   "metadata": {},
   "source": [
    "sns.countplot(x='Siglas',data=data)"
   ]
  },
  {
   "cell_type": "code",
   "execution_count": 324,
   "id": "36f8b7a8",
   "metadata": {
    "scrolled": true
   },
   "outputs": [
    {
     "data": {
      "text/plain": [
       "(27185, 9)"
      ]
     },
     "execution_count": 324,
     "metadata": {},
     "output_type": "execute_result"
    }
   ],
   "source": [
    "#check the shape of data\n",
    "data.shape"
   ]
  },
  {
   "cell_type": "code",
   "execution_count": 325,
   "id": "b18ef21c-4270-4c83-bdf1-83f246e300d8",
   "metadata": {
    "scrolled": true
   },
   "outputs": [
    {
     "name": "stdout",
     "output_type": "stream",
     "text": [
      "<class 'pandas.core.frame.DataFrame'>\n",
      "RangeIndex: 27185 entries, 0 to 27184\n",
      "Data columns (total 9 columns):\n",
      " #   Column        Non-Null Count  Dtype         \n",
      "---  ------        --------------  -----         \n",
      " 0   Siglas        27185 non-null  object        \n",
      " 1   Nombre        27185 non-null  object        \n",
      " 2   Desde         27184 non-null  datetime64[ns]\n",
      " 3   Hasta         27184 non-null  datetime64[ns]\n",
      " 4   MD From (ft)  26180 non-null  float64       \n",
      " 5   MD to (ft)    26162 non-null  float64       \n",
      " 6   Codigo        27185 non-null  object        \n",
      " 7   Subcodigo     26936 non-null  float64       \n",
      " 8   Operación     27180 non-null  object        \n",
      "dtypes: datetime64[ns](2), float64(3), object(4)\n",
      "memory usage: 1.9+ MB\n"
     ]
    }
   ],
   "source": [
    "data.info()"
   ]
  },
  {
   "cell_type": "markdown",
   "id": "5aac916e",
   "metadata": {},
   "source": [
    "## LIMPIEZA DE DATOS"
   ]
  },
  {
   "cell_type": "code",
   "execution_count": 326,
   "id": "57750652",
   "metadata": {
    "scrolled": false
   },
   "outputs": [],
   "source": [
    " data[\"Operación\"] = data[\"Operación\"].str.lower().str.replace(r\"\\W\",\" \")\n",
    "  "
   ]
  },
  {
   "cell_type": "code",
   "execution_count": 373,
   "id": "7bb6ff2f",
   "metadata": {},
   "outputs": [
    {
     "data": {
      "text/html": [
       "<div>\n",
       "<style scoped>\n",
       "    .dataframe tbody tr th:only-of-type {\n",
       "        vertical-align: middle;\n",
       "    }\n",
       "\n",
       "    .dataframe tbody tr th {\n",
       "        vertical-align: top;\n",
       "    }\n",
       "\n",
       "    .dataframe thead th {\n",
       "        text-align: right;\n",
       "    }\n",
       "</style>\n",
       "<table border=\"1\" class=\"dataframe\">\n",
       "  <thead>\n",
       "    <tr style=\"text-align: right;\">\n",
       "      <th></th>\n",
       "      <th>Operación</th>\n",
       "      <th>contador</th>\n",
       "    </tr>\n",
       "  </thead>\n",
       "  <tbody>\n",
       "    <tr>\n",
       "      <th>0</th>\n",
       "      <td>declared spud date on august 13th ...</td>\n",
       "      <td>1</td>\n",
       "    </tr>\n",
       "    <tr>\n",
       "      <th>1</th>\n",
       "      <td>declared spud date on august 24th ...</td>\n",
       "      <td>1</td>\n",
       "    </tr>\n",
       "    <tr>\n",
       "      <th>2</th>\n",
       "      <td>accepted drilling rig sinopec 917 o...</td>\n",
       "      <td>1</td>\n",
       "    </tr>\n",
       "    <tr>\n",
       "      <th>3</th>\n",
       "      <td>accepted drilling rig sinopec 917 o...</td>\n",
       "      <td>1</td>\n",
       "    </tr>\n",
       "    <tr>\n",
       "      <th>4</th>\n",
       "      <td>accepted rig mec 4 on moriche bi 09 we...</td>\n",
       "      <td>1</td>\n",
       "    </tr>\n",
       "    <tr>\n",
       "      <th>...</th>\n",
       "      <td>...</td>\n",
       "      <td>...</td>\n",
       "    </tr>\n",
       "    <tr>\n",
       "      <th>22550</th>\n",
       "      <td>working string up and down w o success</td>\n",
       "      <td>1</td>\n",
       "    </tr>\n",
       "    <tr>\n",
       "      <th>22551</th>\n",
       "      <td>working string up w  max  overpull 70 mklbs  t...</td>\n",
       "      <td>1</td>\n",
       "    </tr>\n",
       "    <tr>\n",
       "      <th>22552</th>\n",
       "      <td>working string up w  max  overpull 70 mklbs  t...</td>\n",
       "      <td>1</td>\n",
       "    </tr>\n",
       "    <tr>\n",
       "      <th>22553</th>\n",
       "      <td>working string up w  max  overpull 70 mklbs  t...</td>\n",
       "      <td>1</td>\n",
       "    </tr>\n",
       "    <tr>\n",
       "      <th>22554</th>\n",
       "      <td>working string up w  max  overpull 70 mklbs  t...</td>\n",
       "      <td>1</td>\n",
       "    </tr>\n",
       "  </tbody>\n",
       "</table>\n",
       "<p>22555 rows × 2 columns</p>\n",
       "</div>"
      ],
      "text/plain": [
       "                                               Operación  contador\n",
       "0                  declared spud date on august 13th ...         1\n",
       "1                  declared spud date on august 24th ...         1\n",
       "2                 accepted drilling rig sinopec 917 o...         1\n",
       "3                 accepted drilling rig sinopec 917 o...         1\n",
       "4              accepted rig mec 4 on moriche bi 09 we...         1\n",
       "...                                                  ...       ...\n",
       "22550             working string up and down w o success         1\n",
       "22551  working string up w  max  overpull 70 mklbs  t...         1\n",
       "22552  working string up w  max  overpull 70 mklbs  t...         1\n",
       "22553  working string up w  max  overpull 70 mklbs  t...         1\n",
       "22554  working string up w  max  overpull 70 mklbs  t...         1\n",
       "\n",
       "[22555 rows x 2 columns]"
      ]
     },
     "execution_count": 373,
     "metadata": {},
     "output_type": "execute_result"
    }
   ],
   "source": [
    "data.groupby(data[\"Operación\"]).size().reset_index(name='contador')\n"
   ]
  },
  {
   "cell_type": "code",
   "execution_count": 375,
   "id": "67e750d4-a152-46f3-9c30-aeb5875d2bdc",
   "metadata": {
    "scrolled": false
   },
   "outputs": [],
   "source": [
    "data = data.dropna()\n",
    "data['Codigo'] = pd.to_numeric(data['Codigo'],errors = 'coerce')\n",
    "data = data.reset_index(drop=True)"
   ]
  },
  {
   "cell_type": "code",
   "execution_count": 376,
   "id": "fe7f281d",
   "metadata": {},
   "outputs": [],
   "source": [
    "data = data.reset_index(drop=True)"
   ]
  },
  {
   "cell_type": "code",
   "execution_count": 438,
   "id": "a639d3ef",
   "metadata": {},
   "outputs": [],
   "source": [
    "def encuentra_key(base,pozo,key1,key2):\n",
    "    '''\n",
    "    Funcion que dada una base de datos, y una clave, encuentra los indices de la fila donde se encuentra el key\n",
    "    ----------------------------------------------------------------------------------------------------------\n",
    "    \n",
    "    - base: Dataframe con una columna de texto, lamada Operación\n",
    "    - key: Cadena de caracteres que se vá a buscar en cada fila de la columna Operación  \n",
    "    \n",
    "    '''\n",
    "    base = base[base[\"Nombre\"]==pozo]\n",
    "    \n",
    "    indice_ST=[] \n",
    "    indice_T=[]\n",
    "\n",
    "    for fila in range(0,len(base)):\n",
    "\n",
    "        fullstring = data[\"Operación\"][fila]\n",
    "        substring = key1\n",
    "\n",
    "        if substring in fullstring:\n",
    "            indice_ST.append(fila)\n",
    "          \n",
    "    ID = indice_ST[-1]\n",
    "    ID_80=int(len(base)*0.8)\n",
    "    \n",
    "    if ID > ID_80:\n",
    "        print (\"El Key1 está dentro del ultimo 20% de las actividades\")\n",
    "        \n",
    "    else:\n",
    "        for fila in range(0,len(base)):\n",
    "            fullstring = data[\"Operación\"][fila]\n",
    "            substring = key2\n",
    "            \n",
    "            if substring in fullstring:\n",
    "                indice_T.append(fila)\n",
    "                \n",
    "        ID=indice_T[-1]\n",
    "\n",
    "    \n",
    "    base.iloc[ID]\n",
    "            \n",
    "    return pd.DataFrame(base.iloc[ID]).T\n",
    "    #return base"
   ]
  },
  {
   "cell_type": "code",
   "execution_count": 439,
   "id": "c1a81353",
   "metadata": {},
   "outputs": [
    {
     "data": {
      "text/html": [
       "<div>\n",
       "<style scoped>\n",
       "    .dataframe tbody tr th:only-of-type {\n",
       "        vertical-align: middle;\n",
       "    }\n",
       "\n",
       "    .dataframe tbody tr th {\n",
       "        vertical-align: top;\n",
       "    }\n",
       "\n",
       "    .dataframe thead th {\n",
       "        text-align: right;\n",
       "    }\n",
       "</style>\n",
       "<table border=\"1\" class=\"dataframe\">\n",
       "  <thead>\n",
       "    <tr style=\"text-align: right;\">\n",
       "      <th></th>\n",
       "      <th>Siglas</th>\n",
       "      <th>Nombre</th>\n",
       "      <th>Desde</th>\n",
       "      <th>Hasta</th>\n",
       "      <th>MD From (ft)</th>\n",
       "      <th>MD to (ft)</th>\n",
       "      <th>Codigo</th>\n",
       "      <th>Subcodigo</th>\n",
       "      <th>Operación</th>\n",
       "      <th>contador</th>\n",
       "    </tr>\n",
       "  </thead>\n",
       "  <tbody>\n",
       "    <tr>\n",
       "      <th>110</th>\n",
       "      <td>OCM</td>\n",
       "      <td>MOR BL 04</td>\n",
       "      <td>2011-05-25 02:30:00</td>\n",
       "      <td>2011-05-25 08:00:00</td>\n",
       "      <td>2773.0</td>\n",
       "      <td>2773.0</td>\n",
       "      <td>1100</td>\n",
       "      <td>1164.0</td>\n",
       "      <td>rih 2 7  8  tubing eue   31 62 ft    niplesill...</td>\n",
       "      <td>1</td>\n",
       "    </tr>\n",
       "  </tbody>\n",
       "</table>\n",
       "</div>"
      ],
      "text/plain": [
       "    Siglas     Nombre               Desde               Hasta MD From (ft)  \\\n",
       "110    OCM  MOR BL 04 2011-05-25 02:30:00 2011-05-25 08:00:00       2773.0   \n",
       "\n",
       "    MD to (ft) Codigo Subcodigo  \\\n",
       "110     2773.0   1100    1164.0   \n",
       "\n",
       "                                             Operación contador  \n",
       "110  rih 2 7  8  tubing eue   31 62 ft    niplesill...        1  "
      ]
     },
     "execution_count": 439,
     "metadata": {},
     "output_type": "execute_result"
    }
   ],
   "source": [
    "encuentra_key(data,\"MOR BL 04\",\"setting tool\",\"tubing\")"
   ]
  },
  {
   "cell_type": "code",
   "execution_count": null,
   "id": "7fb4177c",
   "metadata": {},
   "outputs": [],
   "source": []
  }
 ],
 "metadata": {
  "kernelspec": {
   "display_name": "Python 3",
   "language": "python",
   "name": "python3"
  },
  "language_info": {
   "codemirror_mode": {
    "name": "ipython",
    "version": 3
   },
   "file_extension": ".py",
   "mimetype": "text/x-python",
   "name": "python",
   "nbconvert_exporter": "python",
   "pygments_lexer": "ipython3",
   "version": "3.8.8"
  }
 },
 "nbformat": 4,
 "nbformat_minor": 5
}
